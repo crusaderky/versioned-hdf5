{
 "cells": [
  {
   "cell_type": "markdown",
   "id": "011e716f-ea29-478c-a2fd-75696f151081",
   "metadata": {},
   "source": [
    "# End-to-end benchmarks\n",
    "This notebook can run on master as well as on #370.\n",
    "\n",
    "See plans_benchmarks.ipynb for performance measures on the matching plans in isolation"
   ]
  },
  {
   "cell_type": "code",
   "execution_count": 1,
   "id": "25cbf222-dd77-4679-a485-6b8dbbed9b30",
   "metadata": {},
   "outputs": [
    {
     "name": "stdout",
     "output_type": "stream",
     "text": [
      "<module 'versioned_hdf5.staged_changes' from '/home/crusaderky/github/versioned-hdf5/versioned_hdf5/staged_changes.cpython-312-x86_64-linux-gnu.so'>\n",
      "<module 'versioned_hdf5.subchunk_map' from '/home/crusaderky/github/versioned-hdf5/versioned_hdf5/subchunk_map.cpython-312-x86_64-linux-gnu.so'>\n",
      "/tmp/tmpga9eoz62/data.h5\n"
     ]
    }
   ],
   "source": [
    "import csv\n",
    "import sys\n",
    "import tempfile\n",
    "import time\n",
    "\n",
    "import h5py\n",
    "import numpy as np\n",
    "from versioned_hdf5 import VersionedHDF5File\n",
    "\n",
    "print(sys.modules.get(\"versioned_hdf5.staged_changes\"))\n",
    "print(sys.modules.get(\"versioned_hdf5.subchunk_map\"))\n",
    "\n",
    "tmpdir = tempfile.TemporaryDirectory()\n",
    "path = f\"{tmpdir.name}/data.h5\"\n",
    "print(path)"
   ]
  },
  {
   "cell_type": "code",
   "execution_count": 2,
   "id": "e221df2e-35d6-4128-86d6-ebe2ae891edf",
   "metadata": {},
   "outputs": [],
   "source": [
    "shape = (20_000, 20_000)  # ~3 GiB\n",
    "chunks = (100, 100)  # 40k x 78 kib chunks\n",
    "# chunks = (2_000, 2_000)  # 100 x 30 MiB chunks"
   ]
  },
  {
   "cell_type": "code",
   "execution_count": 3,
   "id": "2c8095fd-173d-49da-9dce-6bd35369a91d",
   "metadata": {},
   "outputs": [
    {
     "name": "stdout",
     "output_type": "stream",
     "text": [
      "Writing to benchmark.csv\n"
     ]
    }
   ],
   "source": [
    "class Benchmark:\n",
    "    def __init__(self):\n",
    "        self.fh = open(\"benchmark.csv\", \"w\")\n",
    "        self.writer = csv.writer(self.fh)\n",
    "        print(\"Writing to benchmark.csv\")\n",
    "        self.t0 = None\n",
    "        self.label = None\n",
    "\n",
    "    def start(self, label):\n",
    "        self.t0 = time.time()\n",
    "        self.label = label\n",
    "        print(f\"**** {label} ****\")\n",
    "\n",
    "    def clock(self, sublabel):\n",
    "        t1 = time.time()\n",
    "        self.print(t1 - self.t0, sublabel)\n",
    "        self.t0 = t1\n",
    "\n",
    "    def print(self, delta_t, sublabel):\n",
    "        print(f\"{delta_t:-10.6f}s {sublabel}\")\n",
    "        self.writer.writerow([self.label, sublabel, delta_t])\n",
    "        self.fh.flush()\n",
    "\n",
    "\n",
    "bench = Benchmark()"
   ]
  },
  {
   "cell_type": "code",
   "execution_count": 4,
   "id": "6927f93a-a926-4d5b-ac97-d76144a5f6f7",
   "metadata": {},
   "outputs": [],
   "source": [
    "i = 0\n",
    "with h5py.File(path, \"w\") as f:\n",
    "    vf = VersionedHDF5File(f)\n",
    "    with vf.stage_version(f\"r{i}\") as sv:\n",
    "        sv.create_dataset(\n",
    "            \"value\",\n",
    "            data=np.arange(np.prod(shape)).reshape(shape),\n",
    "            chunks=(chunks),\n",
    "            maxshape=(None, None),\n",
    "        )"
   ]
  },
  {
   "cell_type": "code",
   "execution_count": 5,
   "id": "afa8032f-d0ac-496a-8e93-5588ae36df29",
   "metadata": {},
   "outputs": [
    {
     "name": "stdout",
     "output_type": "stream",
     "text": [
      "**** stage_version without activity ****\n",
      "  0.733366s open file\n",
      "  0.000337s open dataset\n",
      "  0.172615s build staged_changes\n",
      "  0.503502s build data_dict\n",
      "  0.972063s commit\n"
     ]
    }
   ],
   "source": [
    "i += 1\n",
    "bench.start(\"stage_version without activity\")\n",
    "\n",
    "with h5py.File(path, \"r+\") as f:\n",
    "    vf = VersionedHDF5File(f)\n",
    "    with vf.stage_version(f\"r{i}\") as sv:\n",
    "        bench.clock(\"open file\")\n",
    "        dset = sv[\"value\"]\n",
    "        bench.clock(\"open dataset\")\n",
    "        try:\n",
    "            dset.staged_changes\n",
    "        except AttributeError:\n",
    "            pass  # master\n",
    "        bench.clock(\"build staged_changes\")\n",
    "        dset.data_dict\n",
    "        bench.clock(\"build data_dict\")\n",
    "\n",
    "bench.clock(\"commit\")"
   ]
  },
  {
   "cell_type": "code",
   "execution_count": 6,
   "id": "ed785398-37f5-4e51-b260-79e06a12a2d9",
   "metadata": {},
   "outputs": [],
   "source": [
    "new_data = np.arange(1, np.prod(shape) + 1).reshape(shape)[chunks[0] :]"
   ]
  },
  {
   "cell_type": "code",
   "execution_count": 7,
   "id": "25cb6fa3-13fe-47de-a9d8-9745b0e1cc8c",
   "metadata": {},
   "outputs": [
    {
     "name": "stdout",
     "output_type": "stream",
     "text": [
      "**** __setitem__ of whole chunks not in memory ****\n",
      "  0.780353s dset[c:] = v\n",
      "  9.186669s commit\n"
     ]
    }
   ],
   "source": [
    "label = \"__setitem__ of whole chunks not in memory\"\n",
    "i += 1\n",
    "\n",
    "with h5py.File(path, \"r+\") as f:\n",
    "    vf = VersionedHDF5File(f)\n",
    "    with vf.stage_version(f\"r{i}\") as sv:\n",
    "        dset = sv[\"value\"]\n",
    "        bench.start(label)\n",
    "        # Note: writing to the whole dataset would cause the InMemoryDataset\n",
    "        # to be dropped and replaced with a InMemoryArrayDataset\n",
    "        dset[chunks[0] :] = new_data\n",
    "        bench.clock(\"dset[c:] = v\")\n",
    "bench.clock(\"commit\")"
   ]
  },
  {
   "cell_type": "code",
   "execution_count": 8,
   "id": "d1fe274d-daa8-48f6-ad91-290a6b2ec603",
   "metadata": {},
   "outputs": [
    {
     "name": "stdout",
     "output_type": "stream",
     "text": [
      "**** __setitem__ of parts of chunks (target all chunks) ****\n",
      "  0.982122s dset[::c, ::c] = v\n",
      "  9.406580s commit\n"
     ]
    }
   ],
   "source": [
    "label = \"__setitem__ of parts of chunks (target all chunks)\"\n",
    "i += 1\n",
    "\n",
    "with h5py.File(path, \"r+\") as f:\n",
    "    vf = VersionedHDF5File(f)\n",
    "    with vf.stage_version(f\"r{i}\") as sv:\n",
    "        dset = sv[\"value\"]\n",
    "        bench.start(label)\n",
    "        dset[:: chunks[0], :: chunks[1]] = 12\n",
    "        bench.clock(\"dset[::c, ::c] = v\")\n",
    "bench.clock(\"commit\")"
   ]
  },
  {
   "cell_type": "code",
   "execution_count": 9,
   "id": "b8fea6a6-c609-4cd4-ae17-fbc0a4217557",
   "metadata": {},
   "outputs": [
    {
     "name": "stdout",
     "output_type": "stream",
     "text": [
      "**** setitem of parts of chunks (target every other chunk on outer axis) ****\n",
      "  0.634756s dset[::c*2, ::c] = v\n",
      "  6.457476s commit\n"
     ]
    }
   ],
   "source": [
    "label = \"setitem of parts of chunks (target every other chunk on outer axis)\"\n",
    "i += 1\n",
    "\n",
    "with h5py.File(path, \"r+\") as f:\n",
    "    vf = VersionedHDF5File(f)\n",
    "    with vf.stage_version(f\"r{i}\") as sv:\n",
    "        dset = sv[\"value\"]\n",
    "        bench.start(label)\n",
    "        dset[:: chunks[0] * 2, :: chunks[1]] = 34\n",
    "        bench.clock(\"dset[::c*2, ::c] = v\")\n",
    "bench.clock(\"commit\")"
   ]
  },
  {
   "cell_type": "code",
   "execution_count": 10,
   "id": "0e6992d5-c8ae-4a83-a6d4-2cab4ad679ec",
   "metadata": {},
   "outputs": [
    {
     "name": "stdout",
     "output_type": "stream",
     "text": [
      "**** setitem of parts of chunks (target every other chunk on inner axis) ****\n",
      "  0.608711s dset[::c, ::c*2] = v\n",
      "  6.214005s commit\n"
     ]
    }
   ],
   "source": [
    "label = \"setitem of parts of chunks (target every other chunk on inner axis)\"\n",
    "i += 1\n",
    "\n",
    "with h5py.File(path, \"r+\") as f:\n",
    "    vf = VersionedHDF5File(f)\n",
    "    with vf.stage_version(f\"r{i}\") as sv:\n",
    "        dset = sv[\"value\"]\n",
    "        bench.start(label)\n",
    "        dset[:: chunks[0], :: chunks[1] * 2] = 56\n",
    "        bench.clock(\"dset[::c, ::c*2] = v\")\n",
    "bench.clock(\"commit\")"
   ]
  },
  {
   "cell_type": "code",
   "execution_count": 11,
   "id": "65dc7dba-754d-4c7e-89c7-2b2d5afc1d54",
   "metadata": {},
   "outputs": [
    {
     "name": "stdout",
     "output_type": "stream",
     "text": [
      "**** setitem of parts of chunks (checkers pattern) ****\n",
      "  0.384542s dset[::c*2, ::c*2] = v\n",
      "  4.323836s commit\n"
     ]
    }
   ],
   "source": [
    "label = \"setitem of parts of chunks (checkers pattern)\"\n",
    "i += 1\n",
    "\n",
    "with h5py.File(path, \"r+\") as f:\n",
    "    vf = VersionedHDF5File(f)\n",
    "    with vf.stage_version(f\"r{i}\") as sv:\n",
    "        dset = sv[\"value\"]\n",
    "        bench.start(label)\n",
    "        dset[:: chunks[0] * 2, :: chunks[1] * 2] = 78\n",
    "        bench.clock(\"dset[::c*2, ::c*2] = v\")\n",
    "bench.clock(\"commit\")"
   ]
  },
  {
   "cell_type": "code",
   "execution_count": 12,
   "id": "bba63916-7e09-4757-ac9b-466ef7bea2eb",
   "metadata": {},
   "outputs": [
    {
     "name": "stdout",
     "output_type": "stream",
     "text": [
      "**** getitem with no uncommitted changes, step=1 ****\n",
      "  1.292948s dset[()]\n",
      "  0.786354s commit\n"
     ]
    }
   ],
   "source": [
    "label = \"getitem with no uncommitted changes, step=1\"\n",
    "i += 1\n",
    "with h5py.File(path, \"r+\") as f:\n",
    "    vf = VersionedHDF5File(f)\n",
    "    with vf.stage_version(f\"r{i}\") as sv:\n",
    "        dset = sv[\"value\"]\n",
    "        bench.start(label)\n",
    "        dset[()]\n",
    "        bench.clock(\"dset[()]\")\n",
    "bench.clock(\"commit\")"
   ]
  },
  {
   "cell_type": "code",
   "execution_count": 13,
   "id": "1403cc9d-0d88-4f6e-84a3-9efe42e4f09e",
   "metadata": {},
   "outputs": [
    {
     "name": "stdout",
     "output_type": "stream",
     "text": [
      "**** getitem after a single chunk has been changed, step=1 ****\n",
      "  0.185331s dset[0, 0] = v\n",
      "  1.120037s dset[()]\n",
      "  2.604008s commit\n"
     ]
    }
   ],
   "source": [
    "label = \"getitem after a single chunk has been changed, step=1\"\n",
    "i += 1\n",
    "\n",
    "with h5py.File(path, \"r+\") as f:\n",
    "    vf = VersionedHDF5File(f)\n",
    "    with vf.stage_version(f\"r{i}\") as sv:\n",
    "        dset = sv[\"value\"]\n",
    "        bench.start(label)\n",
    "        dset[0, 0] = 90\n",
    "        bench.clock(\"dset[0, 0] = v\")\n",
    "        dset[()]\n",
    "        bench.clock(\"dset[()]\")\n",
    "bench.clock(\"commit\")"
   ]
  },
  {
   "cell_type": "code",
   "execution_count": 14,
   "id": "2a8f7505-6ab7-42fe-bb9a-e64b01909049",
   "metadata": {},
   "outputs": [
    {
     "name": "stdout",
     "output_type": "stream",
     "text": [
      "**** getitem with no uncommitted changes, step=2 rows ****\n",
      " 10.178604s dset[::2]\n",
      "  0.716204s commit\n"
     ]
    }
   ],
   "source": [
    "label = \"getitem with no uncommitted changes, step=2 rows\"\n",
    "i += 1\n",
    "with h5py.File(path, \"r+\") as f:\n",
    "    vf = VersionedHDF5File(f)\n",
    "    with vf.stage_version(f\"r{i}\") as sv:\n",
    "        dset = sv[\"value\"]\n",
    "        bench.start(label)\n",
    "        dset[::2]\n",
    "        bench.clock(\"dset[::2]\")\n",
    "bench.clock(\"commit\")"
   ]
  },
  {
   "cell_type": "code",
   "execution_count": 15,
   "id": "5e21a348-2d72-4c94-bdef-66ab42a943b6",
   "metadata": {},
   "outputs": [
    {
     "name": "stdout",
     "output_type": "stream",
     "text": [
      "**** getitem with no uncommitted changes, step=2 columns ****\n",
      " 11.087460s dset[:, ::2]\n",
      "  0.821244s commit\n"
     ]
    }
   ],
   "source": [
    "label = \"getitem with no uncommitted changes, step=2 columns\"\n",
    "i += 1\n",
    "with h5py.File(path, \"r+\") as f:\n",
    "    vf = VersionedHDF5File(f)\n",
    "    with vf.stage_version(f\"r{i}\") as sv:\n",
    "        dset = sv[\"value\"]\n",
    "        bench.start(label)\n",
    "        dset[:, ::2]\n",
    "        bench.clock(\"dset[:, ::2]\")\n",
    "bench.clock(\"commit\")"
   ]
  },
  {
   "cell_type": "code",
   "execution_count": 16,
   "id": "cbcd7aa9-1e91-4834-af96-932fb8ad30eb",
   "metadata": {},
   "outputs": [
    {
     "name": "stdout",
     "output_type": "stream",
     "text": [
      "**** getitem after a single chunk has been changed, step=2 rows ****\n",
      "  0.176433s dset[0, 0] = v\n",
      "  9.712827s dset[::2]\n",
      "  2.572764s commit\n"
     ]
    }
   ],
   "source": [
    "label = \"getitem after a single chunk has been changed, step=2 rows\"\n",
    "i += 1\n",
    "\n",
    "with h5py.File(path, \"r+\") as f:\n",
    "    vf = VersionedHDF5File(f)\n",
    "    with vf.stage_version(f\"r{i}\") as sv:\n",
    "        dset = sv[\"value\"]\n",
    "        bench.start(label)\n",
    "        dset[0, 0] = 90\n",
    "        bench.clock(\"dset[0, 0] = v\")\n",
    "        dset[::2]\n",
    "        bench.clock(\"dset[::2]\")\n",
    "bench.clock(\"commit\")"
   ]
  },
  {
   "cell_type": "code",
   "execution_count": 17,
   "id": "80678a74-54f2-4430-bb04-62b344e9b8ad",
   "metadata": {},
   "outputs": [
    {
     "name": "stdout",
     "output_type": "stream",
     "text": [
      "**** getitem after a single chunk has been changed, step=2 columns ****\n",
      "  0.172729s dset[0, 0] = v\n",
      " 10.832580s dset[:, ::2]\n",
      "  2.566417s commit\n"
     ]
    }
   ],
   "source": [
    "label = \"getitem after a single chunk has been changed, step=2 columns\"\n",
    "i += 1\n",
    "\n",
    "with h5py.File(path, \"r+\") as f:\n",
    "    vf = VersionedHDF5File(f)\n",
    "    with vf.stage_version(f\"r{i}\") as sv:\n",
    "        dset = sv[\"value\"]\n",
    "        bench.start(label)\n",
    "        dset[0, 0] = 90\n",
    "        bench.clock(\"dset[0, 0] = v\")\n",
    "        dset[:, ::2]\n",
    "        bench.clock(\"dset[:, ::2]\")\n",
    "bench.clock(\"commit\")"
   ]
  },
  {
   "cell_type": "code",
   "execution_count": 18,
   "id": "eb3e27a7-59c6-4d58-a50a-0645e4e84d5e",
   "metadata": {},
   "outputs": [
    {
     "name": "stdout",
     "output_type": "stream",
     "text": [
      "**** resize to add 1 chunk ****\n",
      "  0.172323s dset.resize((d + 1, d))\n",
      "  2.532207s commit\n"
     ]
    }
   ],
   "source": [
    "label = \"resize to add 1 chunk\"\n",
    "i += 1\n",
    "\n",
    "with h5py.File(path, \"r+\") as f:\n",
    "    vf = VersionedHDF5File(f)\n",
    "    with vf.stage_version(f\"r{i}\") as sv:\n",
    "        dset = sv[\"value\"]\n",
    "        bench.start(label)\n",
    "        dset.resize((shape[0] + 1, shape[0]))\n",
    "        bench.clock(\"dset.resize((d + 1, d))\")\n",
    "bench.clock(\"commit\")"
   ]
  },
  {
   "cell_type": "code",
   "execution_count": null,
   "id": "1b79f1a1-4f88-4545-9adf-0a00ce63a476",
   "metadata": {},
   "outputs": [],
   "source": []
  }
 ],
 "metadata": {
  "kernelspec": {
   "display_name": "Python 3 (ipykernel)",
   "language": "python",
   "name": "python3"
  },
  "language_info": {
   "codemirror_mode": {
    "name": "ipython",
    "version": 3
   },
   "file_extension": ".py",
   "mimetype": "text/x-python",
   "name": "python",
   "nbconvert_exporter": "python",
   "pygments_lexer": "ipython3",
   "version": "3.12.7"
  }
 },
 "nbformat": 4,
 "nbformat_minor": 5
}
