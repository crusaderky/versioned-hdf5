{
 "cells": [
  {
   "cell_type": "code",
   "execution_count": 1,
   "id": "381cfdcf-543e-46b1-9202-d39a984d7235",
   "metadata": {},
   "outputs": [
    {
     "name": "stdout",
     "output_type": "stream",
     "text": [
      "<module 'versioned_hdf5.staged_changes' from '/home/crusaderky/github/versioned-hdf5/versioned_hdf5/staged_changes.cpython-312-x86_64-linux-gnu.so'>\n",
      "<module 'versioned_hdf5.subchunk_map' from '/home/crusaderky/github/versioned-hdf5/versioned_hdf5/subchunk_map.cpython-312-x86_64-linux-gnu.so'>\n"
     ]
    }
   ],
   "source": [
    "import sys\n",
    "import numpy as np\n",
    "from versioned_hdf5.subchunk_map import as_subchunk_map\n",
    "\n",
    "try:\n",
    "    from versioned_hdf5.staged_changes import (\n",
    "        ChangesPlan,\n",
    "        GetItemPlan,\n",
    "        ResizePlan,\n",
    "        SetItemPlan,\n",
    "        np_hsize_t,\n",
    "    )\n",
    "except ImportError:\n",
    "    # master branch\n",
    "    ChangesPlan = None\n",
    "    GetItemPlan = None\n",
    "    ResizePlan = None\n",
    "    SetItemPlan = None\n",
    "    np_hsize_t = np.uint64\n",
    "\n",
    "np.random.seed(0)\n",
    "\n",
    "print(sys.modules.get(\"versioned_hdf5.staged_changes\"))\n",
    "print(sys.modules[\"versioned_hdf5.subchunk_map\"])"
   ]
  },
  {
   "cell_type": "markdown",
   "id": "805d4993-14a5-41c4-8956-2f60050b56e2",
   "metadata": {},
   "source": [
    "# GetItemPlan benchmarks"
   ]
  },
  {
   "cell_type": "code",
   "execution_count": 2,
   "id": "8c7634d8-9e15-46a6-b8bd-060fba7888e6",
   "metadata": {},
   "outputs": [],
   "source": [
    "def bench_getitem_plan(chunk_shape, perc):\n",
    "    if chunk_shape == \"square\":\n",
    "        chunk_size = (1000, 1000)\n",
    "        nchunks = (100, 100)\n",
    "    elif chunk_shape == \"flat\":\n",
    "        chunk_size = (10, 100_000)\n",
    "        nchunks = (10_000, 1)\n",
    "    else:\n",
    "        raise ValueError(chunk_shape)\n",
    "\n",
    "    shape = (100_000, 100_000)\n",
    "    assert all(n * c == s for n, c, s in zip(nchunks, chunk_size, shape))\n",
    "\n",
    "    idx = (slice(int(shape[0] * perc)), slice(int(shape[1] * perc)))\n",
    "\n",
    "    # Brand new dense array\n",
    "    slab_indices = np.ones(nchunks, dtype=np_hsize_t)\n",
    "    slab_offsets = np.arange(\n",
    "        0,\n",
    "        slab_indices.size * chunk_size[0],\n",
    "        chunk_size[0],\n",
    "        dtype=np_hsize_t,\n",
    "    ).reshape(slab_indices.shape)\n",
    "\n",
    "    args = (idx, shape, chunk_size, slab_indices, slab_offsets)\n",
    "\n",
    "    print(f\"{chunk_shape} {perc*100:.0f}%\")\n",
    "    if GetItemPlan is not None:\n",
    "        print(GetItemPlan(*args).head)\n",
    "        %timeit GetItemPlan(*args)\n",
    "\n",
    "    print(\"as_subchunk_map\")\n",
    "    %timeit list(as_subchunk_map(idx=idx, shape=shape, chunk_size=chunk_size))\n",
    "\n",
    "    print()"
   ]
  },
  {
   "cell_type": "markdown",
   "id": "0f6be35a-7c91-4a46-970c-e145d36f77fb",
   "metadata": {},
   "source": [
    "Performance is impacted by the number of modified chunks.\n",
    "\n",
    "\n",
    "All benchmarks run on a dataset 80 GB in size (assuming double or int64 data), 10,000 chunks, 8 MB per chunk and plan the execution of reading the whole dataset item (a[:, :]).\n",
    "\n",
    "#### Legend\n",
    "Shape of the chunks:\n",
    "- **square**: 1000x1000 points (8MB) square chunks, 100 chunks per axis\n",
    "- **flat**: a single chunk of 8MB spanning the columns back to back. Typical e.g after a conversion from Pandas or PyArrow."
   ]
  },
  {
   "cell_type": "code",
   "execution_count": 3,
   "id": "80e49b12-6ca6-4e07-9f82-3e26e11ce006",
   "metadata": {},
   "outputs": [
    {
     "name": "stdout",
     "output_type": "stream",
     "text": [
      "square 100%\n",
      "GetItemPlan<output_shape=(100000, 100000), output_view=[:, :], 10000 slice transfers among 1 slab pairs>\n",
      "574 μs ± 1.92 μs per loop (mean ± std. dev. of 7 runs, 1,000 loops each)\n",
      "as_subchunk_map\n",
      "16.3 ms ± 78.2 μs per loop (mean ± std. dev. of 7 runs, 100 loops each)\n",
      "\n",
      "flat 100%\n",
      "GetItemPlan<output_shape=(100000, 100000), output_view=[:, :], 10000 slice transfers among 1 slab pairs>\n",
      "1.55 ms ± 8.68 μs per loop (mean ± std. dev. of 7 runs, 1,000 loops each)\n",
      "as_subchunk_map\n",
      "19.3 ms ± 182 μs per loop (mean ± std. dev. of 7 runs, 100 loops each)\n",
      "\n",
      "square 5%\n",
      "GetItemPlan<output_shape=(5000, 5000), output_view=[:, :], 25 slice transfers among 1 slab pairs>\n",
      "188 μs ± 3.6 μs per loop (mean ± std. dev. of 7 runs, 10,000 loops each)\n",
      "as_subchunk_map\n",
      "112 μs ± 614 ns per loop (mean ± std. dev. of 7 runs, 10,000 loops each)\n",
      "\n",
      "flat 5%\n",
      "GetItemPlan<output_shape=(5000, 5000), output_view=[:, :], 500 slice transfers among 1 slab pairs>\n",
      "214 μs ± 389 ns per loop (mean ± std. dev. of 7 runs, 1,000 loops each)\n",
      "as_subchunk_map\n",
      "1.02 ms ± 4.61 μs per loop (mean ± std. dev. of 7 runs, 1,000 loops each)\n",
      "\n"
     ]
    }
   ],
   "source": [
    "bench_getitem_plan(\"square\", 1)\n",
    "bench_getitem_plan(\"flat\", 1)\n",
    "bench_getitem_plan(\"square\", 0.05)\n",
    "bench_getitem_plan(\"flat\", 0.05)"
   ]
  },
  {
   "cell_type": "markdown",
   "id": "6af37c4b-76db-4170-9dcb-2a50d7d91b60",
   "metadata": {},
   "source": [
    "# More plans benchmarks\n",
    "The benchmarks below mirror those in wrapper_benchmark.ipynb"
   ]
  },
  {
   "cell_type": "code",
   "execution_count": 4,
   "id": "7f00eceb-86a5-438e-8a43-07462a547e4d",
   "metadata": {},
   "outputs": [],
   "source": [
    "shape = (20_000, 20_000)  # 3 GiB\n",
    "chunk_size = (250, 250)  # 488 kiB\n",
    "nchunks = tuple(s // c + (s % c > 0) for s, c in zip(shape, chunk_size))\n",
    "# Simulate newly created dense versioned_hdf5 dataset\n",
    "slab_indices = np.ones(nchunks, dtype=np_hsize_t)\n",
    "slab_offsets = np.arange(\n",
    "    0,\n",
    "    np.prod(nchunks) * chunk_size[0],\n",
    "    chunk_size[0],\n",
    "    dtype=np_hsize_t,\n",
    ").reshape(slab_indices.shape)"
   ]
  },
  {
   "cell_type": "code",
   "execution_count": 5,
   "id": "bea799c2-dcc6-4667-951a-7d71b8e8de2d",
   "metadata": {},
   "outputs": [
    {
     "name": "stdout",
     "output_type": "stream",
     "text": [
      "SetItemPlan<value_shape=(19750, 20000), value_view=[:, :], append 1 empty slabs, 6320 slice transfers among 1 slab pairs, drop 0 slabs>\n",
      "436 μs ± 576 ns per loop (mean ± std. dev. of 7 runs, 1,000 loops each)\n",
      "as_subchunk_map\n",
      "10.4 ms ± 107 μs per loop (mean ± std. dev. of 7 runs, 100 loops each)\n"
     ]
    }
   ],
   "source": [
    "# setitem of whole chunks not in memory\n",
    "idx = slice(chunk_size[0], None, None)\n",
    "args = (idx, shape, chunk_size, slab_indices, slab_offsets, 2, 1)\n",
    "if SetItemPlan is not None:\n",
    "    splan = SetItemPlan(*args)\n",
    "    print(splan.head)\n",
    "    %timeit SetItemPlan(*args)\n",
    "print(\"as_subchunk_map\")\n",
    "%timeit list(as_subchunk_map(idx=idx, shape=shape, chunk_size=chunk_size))"
   ]
  },
  {
   "cell_type": "code",
   "execution_count": 6,
   "id": "90d7f90b-7835-4645-ab1d-83331b473538",
   "metadata": {},
   "outputs": [
    {
     "name": "stdout",
     "output_type": "stream",
     "text": [
      "SetItemPlan<value_shape=(80, 80), value_view=[:, :], append 1 empty slabs, 6480 slice transfers among 2 slab pairs, drop 1 slabs>\n",
      "511 μs ± 785 ns per loop (mean ± std. dev. of 7 runs, 1,000 loops each)\n",
      "as_subchunk_map\n",
      "10.2 ms ± 57.5 μs per loop (mean ± std. dev. of 7 runs, 100 loops each)\n"
     ]
    }
   ],
   "source": [
    "# setitem of parts of chunks (target all chunks)\n",
    "idx = tuple(slice(None, None, c) for c in chunk_size)\n",
    "args = (idx, shape, chunk_size, slab_indices, slab_offsets, 2, 1)\n",
    "if SetItemPlan is not None:\n",
    "    splan = SetItemPlan(*args)\n",
    "    print(splan.head)\n",
    "    %timeit SetItemPlan(*args)\n",
    "print(\"as_subchunk_map\")\n",
    "%timeit list(as_subchunk_map(idx=idx, shape=shape, chunk_size=chunk_size))"
   ]
  },
  {
   "cell_type": "code",
   "execution_count": 7,
   "id": "a112d1c1-baa6-4136-b6ad-dbd4eddd0f5b",
   "metadata": {},
   "outputs": [
    {
     "name": "stdout",
     "output_type": "stream",
     "text": [
      "SetItemPlan<value_shape=(40, 80), value_view=[:, :], append 0 empty slabs, 3200 slice transfers among 1 slab pairs, drop 0 slabs>\n",
      "406 μs ± 9.2 μs per loop (mean ± std. dev. of 7 runs, 1,000 loops each)\n",
      "as_subchunk_map\n",
      "5.12 ms ± 66.8 μs per loop (mean ± std. dev. of 7 runs, 100 loops each)\n"
     ]
    }
   ],
   "source": [
    "# setitem of parts of chunks (target every other chunk)\n",
    "idx = (slice(None, None, chunk_size[0] * 2), slice(None, None, chunk_size[1]))\n",
    "args = (idx, shape, chunk_size, slab_indices, slab_offsets, 2, 1)\n",
    "if SetItemPlan is not None:\n",
    "    splan = SetItemPlan(*args)\n",
    "    print(splan.head)\n",
    "    %timeit SetItemPlan(*args)\n",
    "print(\"as_subchunk_map\")\n",
    "%timeit list(as_subchunk_map(idx=idx, shape=shape, chunk_size=chunk_size))"
   ]
  },
  {
   "cell_type": "code",
   "execution_count": 8,
   "id": "4d7a07b8-5590-4213-8797-3751e5b172bf",
   "metadata": {},
   "outputs": [
    {
     "name": "stdout",
     "output_type": "stream",
     "text": [
      "SetItemPlan<value_shape=(80, 40), value_view=[:, :], append 0 empty slabs, 3200 slice transfers among 1 slab pairs, drop 0 slabs>\n",
      "396 μs ± 3.43 μs per loop (mean ± std. dev. of 7 runs, 1,000 loops each)\n",
      "as_subchunk_map\n",
      "5.17 ms ± 52 μs per loop (mean ± std. dev. of 7 runs, 100 loops each)\n"
     ]
    }
   ],
   "source": [
    "# setitem of parts of chunks (target every other chunk on inner axis)\n",
    "idx = (slice(None, None, chunk_size[0]), slice(None, None, chunk_size[1] * 2))\n",
    "args = (idx, shape, chunk_size, slab_indices, slab_offsets, 2, 1)\n",
    "if SetItemPlan is not None:\n",
    "    splan = SetItemPlan(*args)\n",
    "    print(splan.head)\n",
    "    %timeit SetItemPlan(*args)\n",
    "print(\"as_subchunk_map\")\n",
    "%timeit list(as_subchunk_map(idx=idx, shape=shape, chunk_size=chunk_size))"
   ]
  },
  {
   "cell_type": "code",
   "execution_count": 9,
   "id": "10362015-699f-4abe-a842-e9f0e174ad64",
   "metadata": {},
   "outputs": [
    {
     "name": "stdout",
     "output_type": "stream",
     "text": [
      "SetItemPlan<value_shape=(40, 40), value_view=[:, :], append 0 empty slabs, 1600 slice transfers among 1 slab pairs, drop 0 slabs>\n",
      "340 μs ± 5.3 μs per loop (mean ± std. dev. of 7 runs, 1,000 loops each)\n",
      "as_subchunk_map\n",
      "2.63 ms ± 4.42 μs per loop (mean ± std. dev. of 7 runs, 100 loops each)\n"
     ]
    }
   ],
   "source": [
    "# setitem of parts of chunks (checkers pattern)\n",
    "idx = (slice(None, None, chunk_size[0] * 2), slice(None, None, chunk_size[1] * 2))\n",
    "args = (idx, shape, chunk_size, slab_indices, slab_offsets, 2, 1)\n",
    "if SetItemPlan is not None:\n",
    "    splan = SetItemPlan(*args)\n",
    "    print(splan.head)\n",
    "    %timeit SetItemPlan(*args)\n",
    "print(\"as_subchunk_map\")\n",
    "%timeit list(as_subchunk_map(idx=idx, shape=shape, chunk_size=chunk_size))"
   ]
  },
  {
   "cell_type": "code",
   "execution_count": 10,
   "id": "8015a693-e127-4f60-8d28-fc959a5943e9",
   "metadata": {},
   "outputs": [
    {
     "name": "stdout",
     "output_type": "stream",
     "text": [
      "ChangesPlan<6400 chunks>\n",
      "1.5 ms ± 1.82 μs per loop (mean ± std. dev. of 7 runs, 1,000 loops each)\n"
     ]
    }
   ],
   "source": [
    "# commit a fully modified array\n",
    "if SetItemPlan is not None:\n",
    "    splan = SetItemPlan((), shape, chunk_size, slab_indices, slab_offsets, 2, 1)\n",
    "    args = (shape, chunk_size, splan.slab_indices, splan.slab_offsets)\n",
    "    cplan = ChangesPlan(*args)\n",
    "    print(cplan.head)\n",
    "    %timeit ChangesPlan(*args)"
   ]
  },
  {
   "cell_type": "code",
   "execution_count": 11,
   "id": "ff51205e-c2f3-4124-8606-4009b24171d5",
   "metadata": {},
   "outputs": [
    {
     "name": "stdout",
     "output_type": "stream",
     "text": [
      "GetItemPlan<output_shape=(20000, 20000), output_view=[:, :], 6400 slice transfers among 1 slab pairs>\n",
      "324 μs ± 2.15 μs per loop (mean ± std. dev. of 7 runs, 1,000 loops each)\n",
      "as_subchunk_map\n",
      "10.3 ms ± 39.4 μs per loop (mean ± std. dev. of 7 runs, 100 loops each)\n"
     ]
    }
   ],
   "source": [
    "# getitem after a single chunk has been changed\n",
    "idx = ()\n",
    "if SetItemPlan is not None:\n",
    "    splan = SetItemPlan((0, 0), shape, chunk_size, slab_indices, slab_offsets, 2, 1)\n",
    "    args = (idx, shape, chunk_size, splan.slab_indices, splan.slab_offsets)\n",
    "    gplan = GetItemPlan(*args)\n",
    "    print(gplan.head)\n",
    "    %timeit GetItemPlan(*args)\n",
    "print(\"as_subchunk_map\")\n",
    "%timeit list(as_subchunk_map(idx=idx, shape=shape, chunk_size=chunk_size))"
   ]
  },
  {
   "cell_type": "code",
   "execution_count": 13,
   "id": "c5f7c3db-8fbe-4bf5-a10a-cbf52a51fa7d",
   "metadata": {},
   "outputs": [
    {
     "name": "stdout",
     "output_type": "stream",
     "text": [
      "ResizePlan<append 0 empty slabs, 80 slice transfers among 1 slab pairs, drop 0 slabs>\n",
      "306 μs ± 503 ns per loop (mean ± std. dev. of 7 runs, 1,000 loops each)\n",
      "as_subchunk_map\n",
      "10.2 ms ± 62 μs per loop (mean ± std. dev. of 7 runs, 100 loops each)\n"
     ]
    }
   ],
   "source": [
    "# resize to add 1 chunk\n",
    "old_shape = (shape[0] - 2, shape[1])\n",
    "new_shape = (shape[0] - 1, shape[1])\n",
    "args = (old_shape, new_shape, chunk_size, slab_indices, slab_offsets, 2, 1)\n",
    "if ResizePlan is not None:\n",
    "    rplan = ResizePlan(*args)\n",
    "    print(rplan.head)\n",
    "    %timeit ResizePlan(*args)\n",
    "print(\"as_subchunk_map\")\n",
    "%timeit list(as_subchunk_map(idx=(), shape=new_shape, chunk_size=chunk_size))"
   ]
  },
  {
   "cell_type": "code",
   "execution_count": null,
   "id": "d7516301-fbaa-4ca8-a538-7f5bb6489b3c",
   "metadata": {},
   "outputs": [],
   "source": []
  }
 ],
 "metadata": {
  "kernelspec": {
   "display_name": "Python 3 (ipykernel)",
   "language": "python",
   "name": "python3"
  },
  "language_info": {
   "codemirror_mode": {
    "name": "ipython",
    "version": 3
   },
   "file_extension": ".py",
   "mimetype": "text/x-python",
   "name": "python",
   "nbconvert_exporter": "python",
   "pygments_lexer": "ipython3",
   "version": "3.12.7"
  }
 },
 "nbformat": 4,
 "nbformat_minor": 5
}
