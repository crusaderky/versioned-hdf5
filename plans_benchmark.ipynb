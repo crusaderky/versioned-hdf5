{
 "cells": [
  {
   "cell_type": "code",
   "execution_count": 1,
   "id": "381cfdcf-543e-46b1-9202-d39a984d7235",
   "metadata": {},
   "outputs": [
    {
     "name": "stdout",
     "output_type": "stream",
     "text": [
      "<module 'versioned_hdf5.hyperspace' from '/home/crusaderky/github/versioned-hdf5/versioned_hdf5/hyperspace.cpython-312-x86_64-linux-gnu.so'>\n",
      "<module 'versioned_hdf5.staged_changes' from '/home/crusaderky/github/versioned-hdf5/versioned_hdf5/staged_changes.cpython-312-x86_64-linux-gnu.so'>\n",
      "<module 'versioned_hdf5.subchunk_map' from '/home/crusaderky/github/versioned-hdf5/versioned_hdf5/subchunk_map.cpython-312-x86_64-linux-gnu.so'>\n"
     ]
    }
   ],
   "source": [
    "import sys\n",
    "import numpy as np\n",
    "from versioned_hdf5.subchunk_map import as_subchunk_map\n",
    "from versioned_hdf5.staged_changes import (\n",
    "    ChangesPlan,\n",
    "    GetItemPlan,\n",
    "    ResizePlan,\n",
    "    SetItemPlan, \n",
    "    _fmt_fancy_index,\n",
    ")\n",
    "\n",
    "np.random.seed(0)\n",
    "\n",
    "print(sys.modules[\"versioned_hdf5.hyperspace\"])\n",
    "print(sys.modules[\"versioned_hdf5.staged_changes\"])\n",
    "print(sys.modules[\"versioned_hdf5.subchunk_map\"])"
   ]
  },
  {
   "cell_type": "code",
   "execution_count": 2,
   "id": "69f12d5c-577b-449f-a2be-1e6211282008",
   "metadata": {},
   "outputs": [],
   "source": [
    "# Very important flag. Read versioned_hdf5/wrappers.py\n",
    "USE_VIRTUAL_GETITEM = True"
   ]
  },
  {
   "cell_type": "markdown",
   "id": "805d4993-14a5-41c4-8956-2f60050b56e2",
   "metadata": {},
   "source": [
    "# GetItemPlan benchmarks"
   ]
  },
  {
   "cell_type": "code",
   "execution_count": 3,
   "id": "8c7634d8-9e15-46a6-b8bd-060fba7888e6",
   "metadata": {},
   "outputs": [],
   "source": [
    "def bench_getitem_plan(mode, chunk_shape, modified_perc = None):\n",
    "    if not USE_VIRTUAL_GETITEM and mode != \"all change\":\n",
    "        print(f\"{mode} is not a valid use case when USE_VIRTUAL_GETITEM is False\")\n",
    "        return\n",
    "\n",
    "    if chunk_shape == \"square\":\n",
    "        chunk_size = (1000, 1000)\n",
    "        nchunks = (100, 100)\n",
    "    elif chunk_shape == \"flat\":\n",
    "        chunk_size = (10, 100_000)\n",
    "        nchunks = (10_000, 1)\n",
    "    else:\n",
    "        raise ValueError(chunk_shape)\n",
    "\n",
    "    shape = (100_000, 100_000)\n",
    "    assert all(n*c == s for n, c, s in zip(nchunks, chunk_size, shape))\n",
    "\n",
    "    chunk_states = np.zeros(nchunks, dtype=np.intp)\n",
    "\n",
    "    idx = ()\n",
    "\n",
    "    if mode == \"no change\":\n",
    "        pass\n",
    "\n",
    "    elif mode == \"one change\":\n",
    "        chunk_states.flat[np.random.randint(chunk_states.size)] = 1\n",
    "\n",
    "    elif mode == \"all change\":\n",
    "        chunk_states.flat[:] = np.arange(1, chunk_states.size + 1)\n",
    "\n",
    "    elif mode == \"dense\":\n",
    "        nmodified = int(chunk_states.size * modified_perc)\n",
    "\n",
    "        if chunk_shape == \"square\":\n",
    "            nmr = int(np.sqrt(nmodified))\n",
    "            nmc = nmodified // nmr\n",
    "            startr = np.random.randint(0, nchunks[0] - nmr)\n",
    "            startc = np.random.randint(0, nchunks[1] - nmc)\n",
    "            chunk_states[startr:startr + nmr, startc:startc + nmc] = np.arange(1, nmr * nmc + 1).reshape(nmr, nmc)\n",
    "        else:\n",
    "            start = np.random.randint(0, chunk_states.size - nmodified)\n",
    "            chunk_states[start:start + nmodified, :] = np.arange(1, nmodified + 1).reshape(-1, 1)\n",
    "\n",
    "    elif mode == \"sparse\":\n",
    "        nmodified = int(chunk_states.size * modified_perc)\n",
    "\n",
    "        chunk_states.flat[\n",
    "            np.random.choice(np.arange(chunk_states.size), nmodified, replace=False)\n",
    "        ] = np.arange(1, nmodified + 1)\n",
    "\n",
    "    else:\n",
    "        raise ValueError(mode)\n",
    "\n",
    "    args = (idx, chunk_size, shape, chunk_states)\n",
    "\n",
    "    if mode in (\"dense\", \"sparse\"):\n",
    "        print(f\"{mode} {modified_perc * 100:.0f}%, {chunk_shape}\")\n",
    "    else:\n",
    "        print(f\"{mode}, {chunk_shape}\")\n",
    "    print(GetItemPlan(*args).head)\n",
    "    %timeit GetItemPlan(*args)\n",
    "    print()\n"
   ]
  },
  {
   "cell_type": "markdown",
   "id": "0f6be35a-7c91-4a46-970c-e145d36f77fb",
   "metadata": {},
   "source": [
    "Performance is impacted by the number of modified chunks.\n",
    "\n",
    "\n",
    "All benchmarks run on a dataset 80 GB in size (assuming double or int64 data), 10,000 chunks, 8 MB per chunk and plan the execution of reading the whole dataset item (a[:, :]).\n",
    "\n",
    "#### Legend\n",
    "Shape of the chunks:\n",
    "- **square**: 1000x1000 points (8MB) square chunks, 100 chunks per axis\n",
    "- **flat**: a single chunk of 8MB spanning the columns back to back. Typical e.g after a conversion from Pandas or PyArrow.\n",
    "\n",
    "What kind of `__setitem__` calls happened before this `__getitem__`?\n",
    "- **One change:** a single chunk randomly in the center has been modified (`a[r, c] = 1`). Need to read up 9,999 chunks from disk.\n",
    "- **Dense:** a monolithic block of chunks in the middle of the array has been modified (`a[r0:r1, c0:c1] = 1`). Tested for 5% of the total surface and for 80%; respectively 9500 and  and 2000 chunks need to be loaded from disk.\n",
    "- **Sparse:** individual chunks randomly selected have been modified. Tested for 5% of the total surface and for 80%.\n",
    "\n",
    "The number of calls to `h5py.Dataset.__getitem__` is highlighted by the plans as _direct reads_."
   ]
  },
  {
   "cell_type": "code",
   "execution_count": 4,
   "id": "80e49b12-6ca6-4e07-9f82-3e26e11ce006",
   "metadata": {},
   "outputs": [
    {
     "name": "stdout",
     "output_type": "stream",
     "text": [
      "no change, square\n",
      "GetItemPlan<shape=(100000, 100000), 0 modified chunks, 0 full chunks, 1 direct reads>\n",
      "55.1 μs ± 1.18 μs per loop (mean ± std. dev. of 7 runs, 10,000 loops each)\n",
      "\n",
      "one change, square\n",
      "GetItemPlan<shape=(100000, 100000), 1 modified chunks, 0 full chunks, 4 direct reads>\n",
      "62.3 μs ± 2.14 μs per loop (mean ± std. dev. of 7 runs, 10,000 loops each)\n",
      "\n",
      "dense 5%, square\n",
      "GetItemPlan<shape=(100000, 100000), 484 modified chunks, 0 full chunks, 46 direct reads>\n",
      "404 μs ± 369 ns per loop (mean ± std. dev. of 7 runs, 1,000 loops each)\n",
      "\n",
      "sparse 5%, square\n",
      "GetItemPlan<shape=(100000, 100000), 500 modified chunks, 0 full chunks, 560 direct reads>\n",
      "673 μs ± 1.11 μs per loop (mean ± std. dev. of 7 runs, 1,000 loops each)\n",
      "\n",
      "dense 80%, square\n",
      "GetItemPlan<shape=(100000, 100000), 7921 modified chunks, 0 full chunks, 180 direct reads>\n",
      "5.6 ms ± 34.1 μs per loop (mean ± std. dev. of 7 runs, 100 loops each)\n",
      "\n",
      "sparse 80%, square\n",
      "GetItemPlan<shape=(100000, 100000), 8000 modified chunks, 0 full chunks, 1629 direct reads>\n",
      "6.62 ms ± 14 μs per loop (mean ± std. dev. of 7 runs, 100 loops each)\n",
      "\n",
      "all change, square\n",
      "GetItemPlan<shape=(100000, 100000), 10000 modified chunks, 0 full chunks, 0 direct reads>\n",
      "4.51 ms ± 9.88 μs per loop (mean ± std. dev. of 7 runs, 100 loops each)\n",
      "\n",
      "no change, flat\n",
      "GetItemPlan<shape=(100000, 100000), 0 modified chunks, 0 full chunks, 1 direct reads>\n",
      "64.1 μs ± 182 ns per loop (mean ± std. dev. of 7 runs, 10,000 loops each)\n",
      "\n",
      "one change, flat\n",
      "GetItemPlan<shape=(100000, 100000), 1 modified chunks, 0 full chunks, 2 direct reads>\n",
      "72.5 μs ± 202 ns per loop (mean ± std. dev. of 7 runs, 10,000 loops each)\n",
      "\n",
      "dense 5%, flat\n",
      "GetItemPlan<shape=(100000, 100000), 500 modified chunks, 0 full chunks, 2 direct reads>\n",
      "688 μs ± 2.34 μs per loop (mean ± std. dev. of 7 runs, 1,000 loops each)\n",
      "\n",
      "sparse 5%, flat\n",
      "GetItemPlan<shape=(100000, 100000), 500 modified chunks, 0 full chunks, 477 direct reads>\n",
      "926 μs ± 10.8 μs per loop (mean ± std. dev. of 7 runs, 1,000 loops each)\n",
      "\n",
      "dense 80%, flat\n",
      "GetItemPlan<shape=(100000, 100000), 8000 modified chunks, 0 full chunks, 2 direct reads>\n",
      "10.4 ms ± 83.7 μs per loop (mean ± std. dev. of 7 runs, 100 loops each)\n",
      "\n",
      "sparse 80%, flat\n",
      "GetItemPlan<shape=(100000, 100000), 8000 modified chunks, 0 full chunks, 1595 direct reads>\n",
      "10.8 ms ± 162 μs per loop (mean ± std. dev. of 7 runs, 100 loops each)\n",
      "\n",
      "all change, flat\n",
      "GetItemPlan<shape=(100000, 100000), 10000 modified chunks, 0 full chunks, 0 direct reads>\n",
      "4.24 ms ± 14.3 μs per loop (mean ± std. dev. of 7 runs, 100 loops each)\n",
      "\n"
     ]
    }
   ],
   "source": [
    "bench_getitem_plan(\"no change\", \"square\")\n",
    "bench_getitem_plan(\"one change\", \"square\")\n",
    "bench_getitem_plan(\"dense\", \"square\", 0.05)\n",
    "bench_getitem_plan(\"sparse\", \"square\", 0.05)\n",
    "bench_getitem_plan(\"dense\", \"square\", 0.8)\n",
    "bench_getitem_plan(\"sparse\", \"square\", 0.8)\n",
    "bench_getitem_plan(\"all change\", \"square\")\n",
    "\n",
    "bench_getitem_plan(\"no change\", \"flat\")\n",
    "bench_getitem_plan(\"one change\", \"flat\")\n",
    "bench_getitem_plan(\"dense\", \"flat\", 0.05)\n",
    "bench_getitem_plan(\"sparse\", \"flat\", 0.05)\n",
    "bench_getitem_plan(\"dense\", \"flat\", 0.8)\n",
    "bench_getitem_plan(\"sparse\", \"flat\", 0.8)\n",
    "bench_getitem_plan(\"all change\", \"flat\")"
   ]
  },
  {
   "cell_type": "markdown",
   "id": "60cfb7ca-e724-4b7a-a666-b3ccb272e5ef",
   "metadata": {},
   "source": [
    "# as_subchunk_map legacy benchmarks\n",
    "Same dataset and chunks shapes as in the GetItemPlan and SetItemPlan benchmarks.\n",
    "Performance of as_subchunk_map() is unaffected by how many chunks are loaded from disk or where the changes are.\n",
    "\n",
    "In `__getitem__`, this will trigger\n",
    "\n",
    "- **one change:** 9,999 calls to `h5py.Dataset.__getitem__`\n",
    "- **5%**: 9,500 calls\n",
    "- **80%**: 2,000 calls\n",
    "\n",
    "In `__setitem__`, this will always load all the impacted chunks that weren't already in memory."
   ]
  },
  {
   "cell_type": "code",
   "execution_count": 5,
   "id": "0ed0a345-bf20-4d4f-be0a-31e5d4dac62c",
   "metadata": {},
   "outputs": [
    {
     "name": "stdout",
     "output_type": "stream",
     "text": [
      "30.3 ms ± 102 μs per loop (mean ± std. dev. of 7 runs, 10 loops each)\n"
     ]
    }
   ],
   "source": [
    "%%timeit\n",
    "# square\n",
    "_ = list(as_subchunk_map(\n",
    "    chunk_size=(1000, 1000),\n",
    "    idx=(),\n",
    "    shape=(100_000, 100_000),\n",
    "))"
   ]
  },
  {
   "cell_type": "code",
   "execution_count": 6,
   "id": "7d48bf45-7b23-4b93-a752-2ab02f6046e3",
   "metadata": {},
   "outputs": [
    {
     "name": "stdout",
     "output_type": "stream",
     "text": [
      "40.2 ms ± 103 μs per loop (mean ± std. dev. of 7 runs, 10 loops each)\n"
     ]
    }
   ],
   "source": [
    "%%timeit\n",
    "# flat\n",
    "_ = list(as_subchunk_map(\n",
    "    chunk_size=(10, 100_000),\n",
    "    idx=(),\n",
    "    shape=(100_000, 100_000),\n",
    "))"
   ]
  },
  {
   "cell_type": "markdown",
   "id": "6af37c4b-76db-4170-9dcb-2a50d7d91b60",
   "metadata": {},
   "source": [
    "# More plans benchmarks\n",
    "The benchmarks below mirror those in wrapper_benchmark.ipynb"
   ]
  },
  {
   "cell_type": "code",
   "execution_count": 7,
   "id": "7f00eceb-86a5-438e-8a43-07462a547e4d",
   "metadata": {},
   "outputs": [],
   "source": [
    "shape = (20_000, 20_000)\n",
    "chunk_size = (100, 100)\n",
    "nchunks = tuple(s // c + (s % c > 0) for s, c in zip(shape, chunk_size))\n",
    "if USE_VIRTUAL_GETITEM:\n",
    "    chunk_states = np.zeros(nchunks, dtype=np.intp)\n",
    "else:\n",
    "    chunk_states = np.arange(1, np.prod(nchunks) + 1, dtype=np.intp).reshape(nchunks)"
   ]
  },
  {
   "cell_type": "code",
   "execution_count": 8,
   "id": "bea799c2-dcc6-4667-951a-7d71b8e8de2d",
   "metadata": {},
   "outputs": [
    {
     "name": "stdout",
     "output_type": "stream",
     "text": [
      "SetItemPlan<shape=(19900, 20000), 0 loads from base into 0 chunks, 0 appends of empty chunks, 0 appends of full chunks, 39800 appends from __setitem__ value, 0 replaces with empty chunks, 0 replaces from __setitem__ value, 0 updates>\n",
      "56.5 ms ± 124 μs per loop (mean ± std. dev. of 7 runs, 10 loops each)\n",
      "123 ms ± 580 μs per loop (mean ± std. dev. of 7 runs, 10 loops each)\n"
     ]
    }
   ],
   "source": [
    "# setitem of whole chunks not in memory\n",
    "idx = slice(chunk_size[0], None, None)\n",
    "splan = SetItemPlan(idx, chunk_size, shape, chunk_states, 1)\n",
    "print(splan.head)\n",
    "%timeit SetItemPlan(idx, chunk_size, shape, chunk_states, 1)\n",
    "%timeit list(as_subchunk_map(chunk_size, idx, shape))"
   ]
  },
  {
   "cell_type": "code",
   "execution_count": 9,
   "id": "90d7f90b-7835-4645-ab1d-83331b473538",
   "metadata": {},
   "outputs": [
    {
     "name": "stdout",
     "output_type": "stream",
     "text": [
      "SetItemPlan<shape=(200, 200), 1 loads from base into 40000 chunks, 0 appends of empty chunks, 0 appends of full chunks, 0 appends from __setitem__ value, 0 replaces with empty chunks, 0 replaces from __setitem__ value, 40000 updates>\n",
      "24.4 ms ± 604 μs per loop (mean ± std. dev. of 7 runs, 10 loops each)\n",
      "126 ms ± 1.5 ms per loop (mean ± std. dev. of 7 runs, 10 loops each)\n"
     ]
    }
   ],
   "source": [
    "# setitem of parts of chunks (target all chunks)\n",
    "idx = tuple(slice(None, None, c) for c in chunk_size)\n",
    "splan = SetItemPlan(idx, chunk_size, shape, chunk_states, 1)\n",
    "print(splan.head)\n",
    "%timeit SetItemPlan(idx, chunk_size, shape, chunk_states, 1)\n",
    "%timeit list(as_subchunk_map(chunk_size, idx, shape))"
   ]
  },
  {
   "cell_type": "code",
   "execution_count": 10,
   "id": "a112d1c1-baa6-4136-b6ad-dbd4eddd0f5b",
   "metadata": {},
   "outputs": [
    {
     "name": "stdout",
     "output_type": "stream",
     "text": [
      "SetItemPlan<shape=(100, 200), 100 loads from base into 20000 chunks, 0 appends of empty chunks, 0 appends of full chunks, 0 appends from __setitem__ value, 0 replaces with empty chunks, 0 replaces from __setitem__ value, 20000 updates>\n",
      "15.2 ms ± 428 μs per loop (mean ± std. dev. of 7 runs, 100 loops each)\n",
      "62.4 ms ± 493 μs per loop (mean ± std. dev. of 7 runs, 10 loops each)\n"
     ]
    }
   ],
   "source": [
    "# setitem of parts of chunks (target every other chunk)\n",
    "idx = (slice(None, None, chunk_size[0] * 2), slice(None, None, chunk_size[1]))\n",
    "splan = SetItemPlan(idx, chunk_size, shape, chunk_states, 1)\n",
    "print(splan.head)\n",
    "%timeit SetItemPlan(idx, chunk_size, shape, chunk_states, 1)\n",
    "%timeit list(as_subchunk_map(chunk_size, idx, shape))"
   ]
  },
  {
   "cell_type": "code",
   "execution_count": 11,
   "id": "4d7a07b8-5590-4213-8797-3751e5b172bf",
   "metadata": {},
   "outputs": [
    {
     "name": "stdout",
     "output_type": "stream",
     "text": [
      "SetItemPlan<shape=(200, 100), 100 loads from base into 20000 chunks, 0 appends of empty chunks, 0 appends of full chunks, 0 appends from __setitem__ value, 0 replaces with empty chunks, 0 replaces from __setitem__ value, 20000 updates>\n",
      "12.8 ms ± 33.9 μs per loop (mean ± std. dev. of 7 runs, 100 loops each)\n",
      "63.3 ms ± 775 μs per loop (mean ± std. dev. of 7 runs, 10 loops each)\n"
     ]
    }
   ],
   "source": [
    "# setitem of parts of chunks (target every other chunk on inner axis)\n",
    "idx = (slice(None, None, chunk_size[0]), slice(None, None, chunk_size[1] * 2))\n",
    "splan = SetItemPlan(idx, chunk_size, shape, chunk_states, 1)\n",
    "print(splan.head)\n",
    "%timeit SetItemPlan(idx, chunk_size, shape, chunk_states, 1)\n",
    "%timeit list(as_subchunk_map(chunk_size, idx, shape))"
   ]
  },
  {
   "cell_type": "code",
   "execution_count": 12,
   "id": "10362015-699f-4abe-a842-e9f0e174ad64",
   "metadata": {},
   "outputs": [
    {
     "name": "stdout",
     "output_type": "stream",
     "text": [
      "SetItemPlan<shape=(100, 100), 10000 loads from base into 10000 chunks, 0 appends of empty chunks, 0 appends of full chunks, 0 appends from __setitem__ value, 0 replaces with empty chunks, 0 replaces from __setitem__ value, 10000 updates>\n",
      "31.8 ms ± 918 μs per loop (mean ± std. dev. of 7 runs, 10 loops each)\n",
      "31.4 ms ± 249 μs per loop (mean ± std. dev. of 7 runs, 10 loops each)\n"
     ]
    }
   ],
   "source": [
    "# setitem of parts of chunks (checkers pattern)\n",
    "idx = (slice(None, None, chunk_size[0] * 2), slice(None, None, chunk_size[1] * 2))\n",
    "splan = SetItemPlan(idx, chunk_size, shape, chunk_states, 1)\n",
    "print(splan.head)\n",
    "%timeit SetItemPlan(idx, chunk_size, shape, chunk_states, 1)\n",
    "%timeit list(as_subchunk_map(chunk_size, idx, shape))"
   ]
  },
  {
   "cell_type": "code",
   "execution_count": 13,
   "id": "8015a693-e127-4f60-8d28-fc959a5943e9",
   "metadata": {},
   "outputs": [
    {
     "name": "stdout",
     "output_type": "stream",
     "text": [
      "ChangesPlan<0 deleted chunks, 40000 chunks in memory, 0 loads from base into 0 chunks>\n",
      "19 ms ± 374 μs per loop (mean ± std. dev. of 7 runs, 100 loops each)\n"
     ]
    }
   ],
   "source": [
    "# commit a fully modified array\n",
    "splan = SetItemPlan((), chunk_size, shape, chunk_states, 1)\n",
    "cplan = ChangesPlan(chunk_size, shape, shape, splan.chunk_states, load_base=False)\n",
    "print(cplan.head)\n",
    "%timeit ChangesPlan(chunk_size, shape, shape, splan.chunk_states, load_base=False)"
   ]
  },
  {
   "cell_type": "code",
   "execution_count": 14,
   "id": "ff51205e-c2f3-4124-8606-4009b24171d5",
   "metadata": {},
   "outputs": [
    {
     "name": "stdout",
     "output_type": "stream",
     "text": [
      "GetItemPlan<shape=(20000, 20000), 1 modified chunks, 0 full chunks, 4 direct reads>\n",
      "124 μs ± 1.37 μs per loop (mean ± std. dev. of 7 runs, 10,000 loops each)\n",
      "124 ms ± 1.26 ms per loop (mean ± std. dev. of 7 runs, 10 loops each)\n"
     ]
    }
   ],
   "source": [
    "# getitem after a single chunk within the selection has been changed\n",
    "splan = SetItemPlan((10000, 10000), chunk_size, shape, chunk_states, 1)\n",
    "idx = ()\n",
    "gplan = GetItemPlan((), chunk_size, shape, splan.chunk_states)\n",
    "print(gplan.head)\n",
    "%timeit GetItemPlan((), chunk_size, shape, splan.chunk_states)\n",
    "%timeit list(as_subchunk_map(chunk_size, idx, shape))"
   ]
  },
  {
   "cell_type": "code",
   "execution_count": 15,
   "id": "d002f6c0-b7a1-479e-8107-605cf2330983",
   "metadata": {},
   "outputs": [
    {
     "name": "stdout",
     "output_type": "stream",
     "text": [
      "GetItemPlan<shape=(19900, 20000), 0 modified chunks, 0 full chunks, 1 direct reads>\n",
      "235 μs ± 4.05 μs per loop (mean ± std. dev. of 7 runs, 1,000 loops each)\n",
      "126 ms ± 976 μs per loop (mean ± std. dev. of 7 runs, 10 loops each)\n"
     ]
    }
   ],
   "source": [
    "# getitem after a single chunk outside of the selection has been changed\n",
    "splan = SetItemPlan((0, 0), chunk_size, shape, chunk_states, 1)\n",
    "idx = slice(chunk_size[0], None, None)\n",
    "gplan = GetItemPlan(idx, chunk_size, shape, splan.chunk_states)\n",
    "print(gplan.head)\n",
    "%timeit GetItemPlan(idx, chunk_size, shape, splan.chunk_states)\n",
    "%timeit list(as_subchunk_map(chunk_size, idx, shape))"
   ]
  },
  {
   "cell_type": "code",
   "execution_count": 16,
   "id": "c5f7c3db-8fbe-4bf5-a10a-cbf52a51fa7d",
   "metadata": {},
   "outputs": [
    {
     "name": "stdout",
     "output_type": "stream",
     "text": [
      "ResizePlan<0 loads from base into 0 chunks, 0 updates, 0 deletes>\n",
      "43.1 μs ± 51 ns per loop (mean ± std. dev. of 7 runs, 10,000 loops each)\n",
      "125 ms ± 945 μs per loop (mean ± std. dev. of 7 runs, 10 loops each)\n"
     ]
    }
   ],
   "source": [
    "# resize to add 1 chunk\n",
    "new_shape = (shape[0] + 1, shape[1])\n",
    "rplan = ResizePlan(chunk_size, shape, new_shape, chunk_states, 1)\n",
    "print(rplan.head)\n",
    "%timeit ResizePlan(chunk_size, shape, new_shape, chunk_states, 1)\n",
    "%timeit list(as_subchunk_map(chunk_size, (), new_shape))"
   ]
  },
  {
   "cell_type": "code",
   "execution_count": null,
   "id": "45370434-4c5d-45ff-8662-a80e3ebd85e8",
   "metadata": {},
   "outputs": [],
   "source": []
  }
 ],
 "metadata": {
  "kernelspec": {
   "display_name": "Python 3 (ipykernel)",
   "language": "python",
   "name": "python3"
  },
  "language_info": {
   "codemirror_mode": {
    "name": "ipython",
    "version": 3
   },
   "file_extension": ".py",
   "mimetype": "text/x-python",
   "name": "python",
   "nbconvert_exporter": "python",
   "pygments_lexer": "ipython3",
   "version": "3.12.4"
  }
 },
 "nbformat": 4,
 "nbformat_minor": 5
}
