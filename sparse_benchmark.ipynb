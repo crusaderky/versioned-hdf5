{
 "cells": [
  {
   "cell_type": "code",
   "execution_count": 1,
   "id": "3fdb492d-808b-4d5d-9c24-4e444e6caf58",
   "metadata": {},
   "outputs": [
    {
     "name": "stdout",
     "output_type": "stream",
     "text": [
      "<module 'versioned_hdf5.hyperspace' from '/home/crusaderky/github/versioned-hdf5/versioned_hdf5/hyperspace.cpython-312-x86_64-linux-gnu.so'>\n",
      "<module 'versioned_hdf5.staged_changes' from '/home/crusaderky/github/versioned-hdf5/versioned_hdf5/staged_changes.cpython-312-x86_64-linux-gnu.so'>\n",
      "<module 'versioned_hdf5.subchunk_map' from '/home/crusaderky/github/versioned-hdf5/versioned_hdf5/subchunk_map.cpython-312-x86_64-linux-gnu.so'>\n"
     ]
    }
   ],
   "source": [
    "import sys\n",
    "import numpy as np\n",
    "from versioned_hdf5.staged_changes import StagedChangesArray\n",
    "\n",
    "print(sys.modules[\"versioned_hdf5.hyperspace\"])\n",
    "print(sys.modules[\"versioned_hdf5.staged_changes\"])\n",
    "print(sys.modules[\"versioned_hdf5.subchunk_map\"])"
   ]
  },
  {
   "cell_type": "markdown",
   "id": "4c0d8dde-c30e-4639-82b7-dedcf51530a9",
   "metadata": {},
   "source": [
    "### Create a sparse array of 1 million chunks"
   ]
  },
  {
   "cell_type": "code",
   "execution_count": 2,
   "id": "a4efe1e3-ff43-4eec-9435-f1b881d1a1fb",
   "metadata": {},
   "outputs": [
    {
     "name": "stdout",
     "output_type": "stream",
     "text": [
      "CPU times: user 151 μs, sys: 11 ms, total: 11.2 ms\n",
      "Wall time: 10.3 ms\n"
     ]
    }
   ],
   "source": [
    "%%time\n",
    "s = StagedChangesArray.full(\n",
    "    shape=(2000, 2000),\n",
    "    chunk_size=(2, 2),\n",
    "    fill_value=1337,\n",
    ")\n",
    "s[3, 2] = 1"
   ]
  },
  {
   "cell_type": "code",
   "execution_count": 3,
   "id": "8de9bf32-6b1c-4c1e-9fdf-9c22014edb16",
   "metadata": {},
   "outputs": [
    {
     "data": {
      "text/plain": [
       "array([[1337, 1337, 1337, 1337, 1337],\n",
       "       [1337, 1337, 1337, 1337, 1337],\n",
       "       [1337, 1337, 1337, 1337, 1337],\n",
       "       [1337, 1337,    1, 1337, 1337],\n",
       "       [1337, 1337, 1337, 1337, 1337]])"
      ]
     },
     "execution_count": 3,
     "metadata": {},
     "output_type": "execute_result"
    }
   ],
   "source": [
    "s[:5, :5]"
   ]
  },
  {
   "cell_type": "markdown",
   "id": "d49d33e1-8b5e-45a7-98a1-ed14dac16825",
   "metadata": {},
   "source": [
    "### Extract all non-full chunks"
   ]
  },
  {
   "cell_type": "code",
   "execution_count": 4,
   "id": "1fe3f2c7-3862-46f9-94a1-1b904ee4b7e1",
   "metadata": {},
   "outputs": [
    {
     "name": "stdout",
     "output_type": "stream",
     "text": [
      "CPU times: user 2.34 ms, sys: 1.02 ms, total: 3.35 ms\n",
      "Wall time: 3.18 ms\n"
     ]
    },
    {
     "data": {
      "text/plain": [
       "[((slice(2, 4, 1), slice(2, 4, 1)),\n",
       "  array([[1337, 1337],\n",
       "         [   1, 1337]]))]"
      ]
     },
     "execution_count": 4,
     "metadata": {},
     "output_type": "execute_result"
    }
   ],
   "source": [
    "%%time\n",
    "list(s.changes())"
   ]
  },
  {
   "cell_type": "code",
   "execution_count": 5,
   "id": "fd7b3abb-76e2-4548-8b5d-2bb026b8de8b",
   "metadata": {},
   "outputs": [],
   "source": [
    "### Change fill_value for all full chunks"
   ]
  },
  {
   "cell_type": "code",
   "execution_count": 6,
   "id": "7090d827-5002-43fe-9b0d-2d0d86f5862e",
   "metadata": {},
   "outputs": [
    {
     "name": "stdout",
     "output_type": "stream",
     "text": [
      "CPU times: user 855 μs, sys: 950 μs, total: 1.8 ms\n",
      "Wall time: 1.66 ms\n"
     ]
    }
   ],
   "source": [
    "%time s2 = s.refill(2)"
   ]
  },
  {
   "cell_type": "code",
   "execution_count": 7,
   "id": "263ca865-a2ce-480f-9bf5-6752f2889c34",
   "metadata": {},
   "outputs": [
    {
     "data": {
      "text/plain": [
       "array([[2, 2, 2, 2, 2],\n",
       "       [2, 2, 2, 2, 2],\n",
       "       [2, 2, 2, 2, 2],\n",
       "       [2, 2, 1, 2, 2],\n",
       "       [2, 2, 2, 2, 2]])"
      ]
     },
     "execution_count": 7,
     "metadata": {},
     "output_type": "execute_result"
    }
   ],
   "source": [
    "s2[:5, :5]"
   ]
  },
  {
   "cell_type": "code",
   "execution_count": 8,
   "id": "36267ff2-ffd6-44d2-a80b-04bae1a765a3",
   "metadata": {},
   "outputs": [
    {
     "data": {
      "text/plain": [
       "[None,\n",
       " array([[2, 2],\n",
       "        [1, 2]])]"
      ]
     },
     "execution_count": 8,
     "metadata": {},
     "output_type": "execute_result"
    }
   ],
   "source": [
    "s2.chunk_values"
   ]
  },
  {
   "cell_type": "markdown",
   "id": "d5593362-233f-4f79-84b6-4132896bdee7",
   "metadata": {},
   "source": [
    "### \\_\\_getitem\\_\\_ of 1 million full chunks"
   ]
  },
  {
   "cell_type": "code",
   "execution_count": 9,
   "id": "02674acf-8c67-45d9-91c5-fbf9964a8462",
   "metadata": {},
   "outputs": [
    {
     "name": "stdout",
     "output_type": "stream",
     "text": [
      "CPU times: user 733 ms, sys: 184 ms, total: 917 ms\n",
      "Wall time: 914 ms\n"
     ]
    },
    {
     "data": {
      "text/plain": [
       "array([[1337, 1337, 1337, ..., 1337, 1337, 1337],\n",
       "       [1337, 1337, 1337, ..., 1337, 1337, 1337],\n",
       "       [1337, 1337, 1337, ..., 1337, 1337, 1337],\n",
       "       ...,\n",
       "       [1337, 1337, 1337, ..., 1337, 1337, 1337],\n",
       "       [1337, 1337, 1337, ..., 1337, 1337, 1337],\n",
       "       [1337, 1337, 1337, ..., 1337, 1337, 1337]])"
      ]
     },
     "execution_count": 9,
     "metadata": {},
     "output_type": "execute_result"
    }
   ],
   "source": [
    "%time s[:]"
   ]
  },
  {
   "cell_type": "markdown",
   "id": "8f7c8419-6a60-4af1-8b48-043e13c95c59",
   "metadata": {},
   "source": [
    "### Create 1 million real chunks in memory, replacing full ones"
   ]
  },
  {
   "cell_type": "code",
   "execution_count": 10,
   "id": "8ba8d50d-db6c-4897-b4f1-1dddbde31939",
   "metadata": {},
   "outputs": [
    {
     "name": "stdout",
     "output_type": "stream",
     "text": [
      "SetItemPlan<shape=(2000, 2000), 0 loads from base into 0 chunks, 0 appends of empty chunks, 0 appends of full chunks, 999999 appends from __setitem__ value, 0 replaces with empty chunks, 1 replaces from __setitem__ value, 0 updates>\n",
      "CPU times: user 1.7 s, sys: 600 ms, total: 2.3 s\n",
      "Wall time: 2.3 s\n"
     ]
    }
   ],
   "source": [
    "print(s._setitem_plan(()).head)\n",
    "%time s[()] = 3"
   ]
  },
  {
   "cell_type": "markdown",
   "id": "2a7ce796-ceb9-4a63-b6a5-39a679b17768",
   "metadata": {},
   "source": [
    "### Replace 1 million real chunks in memory"
   ]
  },
  {
   "cell_type": "code",
   "execution_count": 11,
   "id": "b732c77e-352d-4ae9-be83-9b2bf294a1de",
   "metadata": {},
   "outputs": [
    {
     "name": "stdout",
     "output_type": "stream",
     "text": [
      "SetItemPlan<shape=(2000, 2000), 0 loads from base into 0 chunks, 0 appends of empty chunks, 0 appends of full chunks, 0 appends from __setitem__ value, 0 replaces with empty chunks, 1000000 replaces from __setitem__ value, 0 updates>\n",
      "CPU times: user 1.05 s, sys: 177 ms, total: 1.23 s\n",
      "Wall time: 1.23 s\n"
     ]
    }
   ],
   "source": [
    "print(s._setitem_plan(()).head)\n",
    "%time s[()] = 4"
   ]
  },
  {
   "cell_type": "markdown",
   "id": "898ebb5f-a53d-4948-a7d5-2d8b90ff5a48",
   "metadata": {},
   "source": [
    "### Update 1 million real chunks in memory"
   ]
  },
  {
   "cell_type": "code",
   "execution_count": 12,
   "id": "dc5a4f4b-80c5-42ce-820f-e382b719014a",
   "metadata": {},
   "outputs": [
    {
     "name": "stdout",
     "output_type": "stream",
     "text": [
      "SetItemPlan<shape=(1000, 2000), 0 loads from base into 0 chunks, 0 appends of empty chunks, 0 appends of full chunks, 0 appends from __setitem__ value, 0 replaces with empty chunks, 0 replaces from __setitem__ value, 1000000 updates>\n",
      "CPU times: user 2.03 s, sys: 259 ms, total: 2.29 s\n",
      "Wall time: 2.28 s\n"
     ]
    }
   ],
   "source": [
    "print(s._setitem_plan(slice(None, None, 2)).head)\n",
    "%time s[::2] = 5"
   ]
  },
  {
   "cell_type": "code",
   "execution_count": null,
   "id": "d595b271-3be4-4916-9fd8-bafdcf0e0b68",
   "metadata": {},
   "outputs": [],
   "source": []
  }
 ],
 "metadata": {
  "kernelspec": {
   "display_name": "Python 3 (ipykernel)",
   "language": "python",
   "name": "python3"
  },
  "language_info": {
   "codemirror_mode": {
    "name": "ipython",
    "version": 3
   },
   "file_extension": ".py",
   "mimetype": "text/x-python",
   "name": "python",
   "nbconvert_exporter": "python",
   "pygments_lexer": "ipython3",
   "version": "3.12.4"
  }
 },
 "nbformat": 4,
 "nbformat_minor": 5
}
