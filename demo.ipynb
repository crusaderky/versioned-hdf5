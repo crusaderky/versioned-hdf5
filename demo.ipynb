{
 "cells": [
  {
   "cell_type": "code",
   "execution_count": 1,
   "id": "381cfdcf-543e-46b1-9202-d39a984d7235",
   "metadata": {},
   "outputs": [
    {
     "name": "stdout",
     "output_type": "stream",
     "text": [
      "<module 'versioned_hdf5.staged_changes' from '/home/crusaderky/github/versioned-hdf5/versioned_hdf5/staged_changes.cpython-312-x86_64-linux-gnu.so'>\n",
      "<module 'versioned_hdf5.subchunk_map' from '/home/crusaderky/github/versioned-hdf5/versioned_hdf5/subchunk_map.cpython-312-x86_64-linux-gnu.so'>\n"
     ]
    }
   ],
   "source": [
    "import sys\n",
    "import numpy as np\n",
    "from versioned_hdf5.staged_changes import StagedChangesArray\n",
    "\n",
    "print(sys.modules[\"versioned_hdf5.staged_changes\"])\n",
    "print(sys.modules[\"versioned_hdf5.subchunk_map\"])"
   ]
  },
  {
   "cell_type": "markdown",
   "id": "f6818ef7-f130-4ee9-8a00-01e982016fd6",
   "metadata": {},
   "source": [
    "# StagedChangesArray demo"
   ]
  },
  {
   "cell_type": "code",
   "execution_count": 2,
   "id": "3db42456-2be7-48f4-8134-e64269b00dde",
   "metadata": {},
   "outputs": [
    {
     "data": {
      "text/plain": [
       "array([[ 0,  1,  2,  3,  4,  5,  6,  7],\n",
       "       [ 8,  9, 10, 11, 12, 13, 14, 15],\n",
       "       [16, 17, 18, 19, 20, 21, 22, 23],\n",
       "       [24, 25, 26, 27, 28, 29, 30, 31],\n",
       "       [32, 33, 34, 35, 36, 37, 38, 39],\n",
       "       [40, 41, 42, 43, 44, 45, 46, 47],\n",
       "       [48, 49, 50, 51, 52, 53, 54, 55],\n",
       "       [56, 57, 58, 59, 60, 61, 62, 63]])"
      ]
     },
     "execution_count": 2,
     "metadata": {},
     "output_type": "execute_result"
    }
   ],
   "source": [
    "base = np.arange(64).reshape(8, 8)\n",
    "base"
   ]
  },
  {
   "cell_type": "code",
   "execution_count": 3,
   "id": "b64dc67f-e2b6-449d-abbc-8a8717970b93",
   "metadata": {},
   "outputs": [
    {
     "data": {
      "text/plain": [
       "StagedChangesArray<shape=(8, 8), chunk_size=(2, 2), dtype=int64, fill_value=0, 4 base slabs, 0 staged slabs>\n",
       "slab_indices:\n",
       "[[1 2 3 4]\n",
       " [1 2 3 4]\n",
       " [1 2 3 4]\n",
       " [1 2 3 4]]\n",
       "slab_offsets:\n",
       "[[0 0 0 0]\n",
       " [2 2 2 2]\n",
       " [4 4 4 4]\n",
       " [6 6 6 6]]"
      ]
     },
     "execution_count": 3,
     "metadata": {},
     "output_type": "execute_result"
    }
   ],
   "source": [
    "s = StagedChangesArray.from_array(\n",
    "    base,\n",
    "    chunk_size=(2, 2),\n",
    ")\n",
    "s"
   ]
  },
  {
   "cell_type": "code",
   "execution_count": 4,
   "id": "fa147cc1-3fcd-4d04-9588-93b4269fd8d0",
   "metadata": {},
   "outputs": [
    {
     "data": {
      "text/plain": [
       "[array([[0, 0],\n",
       "        [0, 0]]),\n",
       " array([[ 0,  1],\n",
       "        [ 8,  9],\n",
       "        [16, 17],\n",
       "        [24, 25],\n",
       "        [32, 33],\n",
       "        [40, 41],\n",
       "        [48, 49],\n",
       "        [56, 57]]),\n",
       " array([[ 2,  3],\n",
       "        [10, 11],\n",
       "        [18, 19],\n",
       "        [26, 27],\n",
       "        [34, 35],\n",
       "        [42, 43],\n",
       "        [50, 51],\n",
       "        [58, 59]]),\n",
       " array([[ 4,  5],\n",
       "        [12, 13],\n",
       "        [20, 21],\n",
       "        [28, 29],\n",
       "        [36, 37],\n",
       "        [44, 45],\n",
       "        [52, 53],\n",
       "        [60, 61]]),\n",
       " array([[ 6,  7],\n",
       "        [14, 15],\n",
       "        [22, 23],\n",
       "        [30, 31],\n",
       "        [38, 39],\n",
       "        [46, 47],\n",
       "        [54, 55],\n",
       "        [62, 63]])]"
      ]
     },
     "execution_count": 4,
     "metadata": {},
     "output_type": "execute_result"
    }
   ],
   "source": [
    "s.slabs"
   ]
  },
  {
   "cell_type": "code",
   "execution_count": 5,
   "id": "20e42225-a0fc-43aa-9184-3ed066b24f54",
   "metadata": {},
   "outputs": [],
   "source": [
    "np.testing.assert_array_equal(base, s[:])"
   ]
  },
  {
   "cell_type": "markdown",
   "id": "4abb516e-562a-42a7-b461-8be565121bce",
   "metadata": {},
   "source": [
    "### \\_\\_setitem\\_\\_()"
   ]
  },
  {
   "cell_type": "code",
   "execution_count": 6,
   "id": "9cd5416f-c48c-4c6a-954f-ab933afe9388",
   "metadata": {},
   "outputs": [
    {
     "data": {
      "text/plain": [
       "SetItemPlan<value_shape=(3, 3), value_view=[:, :], append 2 empty slabs, 7 slice transfers among 4 slab pairs, drop 0 slabs>\n",
       "  slabs.append(np.empty((6, 2)))  # slabs[5]\n",
       "  slabs.append(np.empty((2, 2)))  # slabs[6]\n",
       "  # 2 transfers from slabs[2] to slabs[5]\n",
       "  slabs[5][0:2, 0:2] = slabs[2][2:4, 0:2]\n",
       "  slabs[5][2:4, 0:2] = slabs[2][4:6, 0:2]\n",
       "  # 1 transfers from slabs[3] to slabs[5]\n",
       "  slabs[5][4:6, 0:2] = slabs[3][4:6, 0:2]\n",
       "  # 1 transfers from value to slabs[6]\n",
       "  slabs[6][0:2, 0:2] = value[0:2, 1:3]\n",
       "  # 3 transfers from value to slabs[5]\n",
       "  slabs[5][0:2, 1:2] = value[0:2, 0:1]\n",
       "  slabs[5][2:3, 1:2] = value[2:3, 0:1]\n",
       "  slabs[5][4:5, 0:2] = value[2:3, 1:3]\n",
       "slab_indices:\n",
       "[[1 2 3 4]\n",
       " [1 5 6 4]\n",
       " [1 5 5 4]\n",
       " [1 2 3 4]]\n",
       "slab_offsets:\n",
       "[[0 0 0 0]\n",
       " [2 0 0 2]\n",
       " [4 2 4 4]\n",
       " [6 6 6 6]]"
      ]
     },
     "execution_count": 6,
     "metadata": {},
     "output_type": "execute_result"
    }
   ],
   "source": [
    "s._setitem_plan((slice(2, 5), slice(3, 6)))"
   ]
  },
  {
   "cell_type": "code",
   "execution_count": 7,
   "id": "a6295fb6-fac8-4ce5-be96-29c6578e15ef",
   "metadata": {},
   "outputs": [
    {
     "data": {
      "text/plain": [
       "StagedChangesArray<shape=(8, 8), chunk_size=(2, 2), dtype=int64, fill_value=0, 4 base slabs, 2 staged slabs>\n",
       "slab_indices:\n",
       "[[1 2 3 4]\n",
       " [1 5 6 4]\n",
       " [1 5 5 4]\n",
       " [1 2 3 4]]\n",
       "slab_offsets:\n",
       "[[0 0 0 0]\n",
       " [2 0 0 2]\n",
       " [4 2 4 4]\n",
       " [6 6 6 6]]"
      ]
     },
     "execution_count": 7,
     "metadata": {},
     "output_type": "execute_result"
    }
   ],
   "source": [
    "s[2:5, 3:6] = np.arange(9).reshape(3, 3) + 1000\n",
    "s"
   ]
  },
  {
   "cell_type": "markdown",
   "id": "1a4dd794-5727-49ce-a406-35cb9b88ce12",
   "metadata": {},
   "source": [
    "### changes()"
   ]
  },
  {
   "cell_type": "code",
   "execution_count": 8,
   "id": "a0a9f858-bc2c-4bcd-b85e-1ef89d9c920d",
   "metadata": {},
   "outputs": [
    {
     "data": {
      "text/plain": [
       "ChangesPlan<16 chunks>\n",
       "  base[0:2, 0:2] = slabs[1][0:2, 0:2]\n",
       "  base[0:2, 2:4] = slabs[2][0:2, 0:2]\n",
       "  base[0:2, 4:6] = slabs[3][0:2, 0:2]\n",
       "  base[0:2, 6:8] = slabs[4][0:2, 0:2]\n",
       "  base[2:4, 0:2] = slabs[1][2:4, 0:2]\n",
       "  base[2:4, 2:4] = slabs[5][0:2, 0:2]\n",
       "  base[2:4, 4:6] = slabs[6][0:2, 0:2]\n",
       "  base[2:4, 6:8] = slabs[4][2:4, 0:2]\n",
       "  base[4:6, 0:2] = slabs[1][4:6, 0:2]\n",
       "  base[4:6, 2:4] = slabs[5][2:4, 0:2]\n",
       "  base[4:6, 4:6] = slabs[5][4:6, 0:2]\n",
       "  base[4:6, 6:8] = slabs[4][4:6, 0:2]\n",
       "  base[6:8, 0:2] = slabs[1][6:8, 0:2]\n",
       "  base[6:8, 2:4] = slabs[2][6:8, 0:2]\n",
       "  base[6:8, 4:6] = slabs[3][6:8, 0:2]\n",
       "  base[6:8, 6:8] = slabs[4][6:8, 0:2]"
      ]
     },
     "execution_count": 8,
     "metadata": {},
     "output_type": "execute_result"
    }
   ],
   "source": [
    "s._changes_plan()"
   ]
  },
  {
   "cell_type": "code",
   "execution_count": 9,
   "id": "3f4239a8-7737-473c-b55b-6007ddd6f832",
   "metadata": {},
   "outputs": [
    {
     "data": {
      "text/plain": [
       "[((slice(0, 2, 1), slice(0, 2, 1)), 1, (slice(0, 2, 1), slice(0, 2, 1))),\n",
       " ((slice(0, 2, 1), slice(2, 4, 1)), 2, (slice(0, 2, 1), slice(0, 2, 1))),\n",
       " ((slice(0, 2, 1), slice(4, 6, 1)), 3, (slice(0, 2, 1), slice(0, 2, 1))),\n",
       " ((slice(0, 2, 1), slice(6, 8, 1)), 4, (slice(0, 2, 1), slice(0, 2, 1))),\n",
       " ((slice(2, 4, 1), slice(0, 2, 1)), 1, (slice(2, 4, 1), slice(0, 2, 1))),\n",
       " ((slice(2, 4, 1), slice(2, 4, 1)),\n",
       "  5,\n",
       "  array([[  18, 1000],\n",
       "         [  26, 1003]])),\n",
       " ((slice(2, 4, 1), slice(4, 6, 1)),\n",
       "  6,\n",
       "  array([[1001, 1002],\n",
       "         [1004, 1005]])),\n",
       " ((slice(2, 4, 1), slice(6, 8, 1)), 4, (slice(2, 4, 1), slice(0, 2, 1))),\n",
       " ((slice(4, 6, 1), slice(0, 2, 1)), 1, (slice(4, 6, 1), slice(0, 2, 1))),\n",
       " ((slice(4, 6, 1), slice(2, 4, 1)),\n",
       "  5,\n",
       "  array([[  34, 1006],\n",
       "         [  42,   43]])),\n",
       " ((slice(4, 6, 1), slice(4, 6, 1)),\n",
       "  5,\n",
       "  array([[1007, 1008],\n",
       "         [  44,   45]])),\n",
       " ((slice(4, 6, 1), slice(6, 8, 1)), 4, (slice(4, 6, 1), slice(0, 2, 1))),\n",
       " ((slice(6, 8, 1), slice(0, 2, 1)), 1, (slice(6, 8, 1), slice(0, 2, 1))),\n",
       " ((slice(6, 8, 1), slice(2, 4, 1)), 2, (slice(6, 8, 1), slice(0, 2, 1))),\n",
       " ((slice(6, 8, 1), slice(4, 6, 1)), 3, (slice(6, 8, 1), slice(0, 2, 1))),\n",
       " ((slice(6, 8, 1), slice(6, 8, 1)), 4, (slice(6, 8, 1), slice(0, 2, 1)))]"
      ]
     },
     "execution_count": 9,
     "metadata": {},
     "output_type": "execute_result"
    }
   ],
   "source": [
    "list(s.changes())"
   ]
  },
  {
   "cell_type": "markdown",
   "id": "42385019-402c-46c1-a092-e8a7a6d5a2ea",
   "metadata": {},
   "source": [
    "### \\_\\_getitem\\_\\_()"
   ]
  },
  {
   "cell_type": "code",
   "execution_count": 10,
   "id": "97593e85-27e0-4aa9-873a-3b4839bd6221",
   "metadata": {},
   "outputs": [
    {
     "data": {
      "text/plain": [
       "GetItemPlan<output_shape=(8, 8), output_view=[:, :], 16 slice transfers among 6 slab pairs>\n",
       "  # 4 transfers from slabs[1] to out\n",
       "  out[0:2, 0:2] = slabs[1][0:2, 0:2]\n",
       "  out[2:4, 0:2] = slabs[1][2:4, 0:2]\n",
       "  out[4:6, 0:2] = slabs[1][4:6, 0:2]\n",
       "  out[6:8, 0:2] = slabs[1][6:8, 0:2]\n",
       "  # 2 transfers from slabs[2] to out\n",
       "  out[0:2, 2:4] = slabs[2][0:2, 0:2]\n",
       "  out[6:8, 2:4] = slabs[2][6:8, 0:2]\n",
       "  # 2 transfers from slabs[3] to out\n",
       "  out[0:2, 4:6] = slabs[3][0:2, 0:2]\n",
       "  out[6:8, 4:6] = slabs[3][6:8, 0:2]\n",
       "  # 4 transfers from slabs[4] to out\n",
       "  out[0:2, 6:8] = slabs[4][0:2, 0:2]\n",
       "  out[2:4, 6:8] = slabs[4][2:4, 0:2]\n",
       "  out[4:6, 6:8] = slabs[4][4:6, 0:2]\n",
       "  out[6:8, 6:8] = slabs[4][6:8, 0:2]\n",
       "  # 3 transfers from slabs[5] to out\n",
       "  out[2:4, 2:4] = slabs[5][0:2, 0:2]\n",
       "  out[4:6, 2:4] = slabs[5][2:4, 0:2]\n",
       "  out[4:6, 4:6] = slabs[5][4:6, 0:2]\n",
       "  # 1 transfers from slabs[6] to out\n",
       "  out[2:4, 4:6] = slabs[6][0:2, 0:2]"
      ]
     },
     "execution_count": 10,
     "metadata": {},
     "output_type": "execute_result"
    }
   ],
   "source": [
    "s._getitem_plan(())"
   ]
  },
  {
   "cell_type": "code",
   "execution_count": 11,
   "id": "72a990ad-7ed4-4e01-bf23-4837779f2f69",
   "metadata": {},
   "outputs": [
    {
     "data": {
      "text/plain": [
       "array([[   0,    1,    2,    3,    4,    5,    6,    7],\n",
       "       [   8,    9,   10,   11,   12,   13,   14,   15],\n",
       "       [  16,   17,   18, 1000, 1001, 1002,   22,   23],\n",
       "       [  24,   25,   26, 1003, 1004, 1005,   30,   31],\n",
       "       [  32,   33,   34, 1006, 1007, 1008,   38,   39],\n",
       "       [  40,   41,   42,   43,   44,   45,   46,   47],\n",
       "       [  48,   49,   50,   51,   52,   53,   54,   55],\n",
       "       [  56,   57,   58,   59,   60,   61,   62,   63]])"
      ]
     },
     "execution_count": 11,
     "metadata": {},
     "output_type": "execute_result"
    }
   ],
   "source": [
    "s[:]"
   ]
  },
  {
   "cell_type": "code",
   "execution_count": 12,
   "id": "08380211-132a-4e85-bf7a-c75c322ae434",
   "metadata": {},
   "outputs": [
    {
     "data": {
      "text/plain": [
       "StagedChangesArray<shape=(8, 8), chunk_size=(2, 2), dtype=int64, fill_value=0, 4 base slabs, 2 staged slabs>\n",
       "slab_indices:\n",
       "[[1 2 3 4]\n",
       " [1 5 6 4]\n",
       " [1 5 5 4]\n",
       " [1 2 3 4]]\n",
       "slab_offsets:\n",
       "[[0 0 0 0]\n",
       " [2 0 0 2]\n",
       " [4 2 4 4]\n",
       " [6 6 6 6]]"
      ]
     },
     "execution_count": 12,
     "metadata": {},
     "output_type": "execute_result"
    }
   ],
   "source": [
    "# __getitem__ loads data transparently from base to output\n",
    "# (no cache on read)\n",
    "s"
   ]
  },
  {
   "cell_type": "markdown",
   "id": "1370dbe6-b0ec-431a-8dd7-41d5fcb41fd8",
   "metadata": {},
   "source": [
    "### resize()\n",
    "When enlarging, new chunks full of fill_value all point to `slabs[0][0:]`.\n",
    "\n",
    "It may also be necessary to load partially resized chunks from base."
   ]
  },
  {
   "cell_type": "code",
   "execution_count": 13,
   "id": "547e4293-38fe-4e46-b96d-66f356db5427",
   "metadata": {},
   "outputs": [
    {
     "data": {
      "text/plain": [
       "ResizePlan<append 0 empty slabs, 0 slice transfers among 0 slab pairs, drop 0 slabs>\n",
       "slab_indices:\n",
       "[[1 2 3 4 0]\n",
       " [1 5 6 4 0]\n",
       " [1 5 5 4 0]]\n",
       "slab_offsets:\n",
       "[[0 0 0 0 0]\n",
       " [2 0 0 2 0]\n",
       " [4 2 4 4 0]]"
      ]
     },
     "execution_count": 13,
     "metadata": {},
     "output_type": "execute_result"
    }
   ],
   "source": [
    "s._resize_plan((5, 9))"
   ]
  },
  {
   "cell_type": "code",
   "execution_count": 14,
   "id": "193cc346-75b5-46fc-be4e-8dd6403299a1",
   "metadata": {},
   "outputs": [],
   "source": [
    "s.resize((5, 9))"
   ]
  },
  {
   "cell_type": "code",
   "execution_count": 15,
   "id": "972ed64c-244f-4031-b6a5-19bebf4f11c8",
   "metadata": {},
   "outputs": [
    {
     "data": {
      "text/plain": [
       "StagedChangesArray<shape=(5, 9), chunk_size=(2, 2), dtype=int64, fill_value=0, 4 base slabs, 2 staged slabs>\n",
       "slab_indices:\n",
       "[[1 2 3 4 0]\n",
       " [1 5 6 4 0]\n",
       " [1 5 5 4 0]]\n",
       "slab_offsets:\n",
       "[[0 0 0 0 0]\n",
       " [2 0 0 2 0]\n",
       " [4 2 4 4 0]]"
      ]
     },
     "execution_count": 15,
     "metadata": {},
     "output_type": "execute_result"
    }
   ],
   "source": [
    "s"
   ]
  },
  {
   "cell_type": "code",
   "execution_count": 16,
   "id": "01e6d469-b932-42c6-8bfa-2d5189ce19e8",
   "metadata": {},
   "outputs": [
    {
     "data": {
      "text/plain": [
       "array([[   0,    1,    2,    3,    4,    5,    6,    7,    0],\n",
       "       [   8,    9,   10,   11,   12,   13,   14,   15,    0],\n",
       "       [  16,   17,   18, 1000, 1001, 1002,   22,   23,    0],\n",
       "       [  24,   25,   26, 1003, 1004, 1005,   30,   31,    0],\n",
       "       [  32,   33,   34, 1006, 1007, 1008,   38,   39,    0]])"
      ]
     },
     "execution_count": 16,
     "metadata": {},
     "output_type": "execute_result"
    }
   ],
   "source": [
    "s[:]"
   ]
  },
  {
   "cell_type": "code",
   "execution_count": 17,
   "id": "f7848813-aaef-409a-82d9-c9a871547295",
   "metadata": {},
   "outputs": [
    {
     "data": {
      "text/plain": [
       "SetItemPlan<value_shape=(3,), value_view=[:, None], append 2 empty slabs, 3 slice transfers among 3 slab pairs, drop 0 slabs>\n",
       "  slabs.append(np.empty((2, 2)))  # slabs[7]\n",
       "  slabs.append(np.empty((2, 2)))  # slabs[8]\n",
       "  # 1 transfers from slabs[0] to slabs[7]\n",
       "  slabs[7][0:2, 0:1] = slabs[0][0:2, 0:1]\n",
       "  # 1 transfers from value to slabs[8]\n",
       "  slabs[8][0:2, 0:1] = value[0:2, 0:1]\n",
       "  # 1 transfers from value to slabs[7]\n",
       "  slabs[7][0:1, 0:1] = value[2:3, 0:1]\n",
       "slab_indices:\n",
       "[[1 2 3 4 8]\n",
       " [1 5 6 4 7]\n",
       " [1 5 5 4 0]]\n",
       "slab_offsets:\n",
       "[[0 0 0 0 0]\n",
       " [2 0 0 2 0]\n",
       " [4 2 4 4 0]]"
      ]
     },
     "execution_count": 17,
     "metadata": {},
     "output_type": "execute_result"
    }
   ],
   "source": [
    "# __setitem__() encroaching on full chunks\n",
    "# (wholly on chunk row 0, partially on chunk row 1)\n",
    "s._setitem_plan((slice(0, 3), -1))"
   ]
  },
  {
   "cell_type": "code",
   "execution_count": 18,
   "id": "30639958-9490-4434-8be3-7fda5950bd60",
   "metadata": {},
   "outputs": [],
   "source": [
    "s[:3, -1] = 2000"
   ]
  },
  {
   "cell_type": "code",
   "execution_count": 19,
   "id": "30200dfa-9049-4b08-b952-a6e6487dbb6e",
   "metadata": {},
   "outputs": [
    {
     "data": {
      "text/plain": [
       "StagedChangesArray<shape=(5, 9), chunk_size=(2, 2), dtype=int64, fill_value=0, 4 base slabs, 4 staged slabs>\n",
       "slab_indices:\n",
       "[[1 2 3 4 8]\n",
       " [1 5 6 4 7]\n",
       " [1 5 5 4 0]]\n",
       "slab_offsets:\n",
       "[[0 0 0 0 0]\n",
       " [2 0 0 2 0]\n",
       " [4 2 4 4 0]]"
      ]
     },
     "execution_count": 19,
     "metadata": {},
     "output_type": "execute_result"
    }
   ],
   "source": [
    "s"
   ]
  },
  {
   "cell_type": "code",
   "execution_count": 20,
   "id": "5c96ebbd-3745-4a1c-8cf9-1ee75bf5bdbe",
   "metadata": {},
   "outputs": [
    {
     "data": {
      "text/plain": [
       "array([[   0,    1,    2,    3,    4,    5,    6,    7, 2000],\n",
       "       [   8,    9,   10,   11,   12,   13,   14,   15, 2000],\n",
       "       [  16,   17,   18, 1000, 1001, 1002,   22,   23, 2000],\n",
       "       [  24,   25,   26, 1003, 1004, 1005,   30,   31,    0],\n",
       "       [  32,   33,   34, 1006, 1007, 1008,   38,   39,    0]])"
      ]
     },
     "execution_count": 20,
     "metadata": {},
     "output_type": "execute_result"
    }
   ],
   "source": [
    "s[:]"
   ]
  },
  {
   "cell_type": "code",
   "execution_count": 21,
   "id": "93ddbd69-eaa6-4aee-a689-6831367635e4",
   "metadata": {},
   "outputs": [
    {
     "data": {
      "text/plain": [
       "ChangesPlan<14 chunks>\n",
       "  base[0:2, 0:2] = slabs[1][0:2, 0:2]\n",
       "  base[0:2, 2:4] = slabs[2][0:2, 0:2]\n",
       "  base[0:2, 4:6] = slabs[3][0:2, 0:2]\n",
       "  base[0:2, 6:8] = slabs[4][0:2, 0:2]\n",
       "  base[0:2, 8:9] = slabs[8][0:2, 0:1]\n",
       "  base[2:4, 0:2] = slabs[1][2:4, 0:2]\n",
       "  base[2:4, 2:4] = slabs[5][0:2, 0:2]\n",
       "  base[2:4, 4:6] = slabs[6][0:2, 0:2]\n",
       "  base[2:4, 6:8] = slabs[4][2:4, 0:2]\n",
       "  base[2:4, 8:9] = slabs[7][0:2, 0:1]\n",
       "  base[4:5, 0:2] = slabs[1][4:5, 0:2]\n",
       "  base[4:5, 2:4] = slabs[5][2:3, 0:2]\n",
       "  base[4:5, 4:6] = slabs[5][4:5, 0:2]\n",
       "  base[4:5, 6:8] = slabs[4][4:5, 0:2]"
      ]
     },
     "execution_count": 21,
     "metadata": {},
     "output_type": "execute_result"
    }
   ],
   "source": [
    "s._changes_plan()"
   ]
  },
  {
   "cell_type": "markdown",
   "id": "d3a762f6-322a-4457-8078-f2eea0e7cd82",
   "metadata": {},
   "source": [
    "### astype()\n",
    "`StagedChangesArray.astype()` loads all chunks, except those that are covered in fill_value.\n",
    "\n",
    "Note that `slabs[1]` is no longer referenced after it."
   ]
  },
  {
   "cell_type": "code",
   "execution_count": 22,
   "id": "05ebb7aa-7e79-422b-a9e6-a229a56393d0",
   "metadata": {},
   "outputs": [
    {
     "data": {
      "text/plain": [
       "StagedChangesArray<shape=(5, 9), chunk_size=(2, 2), dtype=float64, fill_value=0.0, 4 base slabs, 5 staged slabs>\n",
       "slab_indices:\n",
       "[[9 9 9 9 8]\n",
       " [9 5 6 9 7]\n",
       " [9 5 5 9 0]]\n",
       "slab_offsets:\n",
       "[[ 0  6  8 10  0]\n",
       " [ 2  0  0 12  0]\n",
       " [ 4  2  4 14  0]]"
      ]
     },
     "execution_count": 22,
     "metadata": {},
     "output_type": "execute_result"
    }
   ],
   "source": [
    "s2 = s.astype(float)\n",
    "s2"
   ]
  },
  {
   "cell_type": "code",
   "execution_count": 23,
   "id": "c9115596-f41c-4d6d-aea4-7ebb5a41a2ee",
   "metadata": {},
   "outputs": [
    {
     "data": {
      "text/plain": [
       "ChangesPlan<14 chunks>\n",
       "  base[0:2, 0:2] = slabs[9][0:2, 0:2]\n",
       "  base[0:2, 2:4] = slabs[9][6:8, 0:2]\n",
       "  base[0:2, 4:6] = slabs[9][8:10, 0:2]\n",
       "  base[0:2, 6:8] = slabs[9][10:12, 0:2]\n",
       "  base[0:2, 8:9] = slabs[8][0:2, 0:1]\n",
       "  base[2:4, 0:2] = slabs[9][2:4, 0:2]\n",
       "  base[2:4, 2:4] = slabs[5][0:2, 0:2]\n",
       "  base[2:4, 4:6] = slabs[6][0:2, 0:2]\n",
       "  base[2:4, 6:8] = slabs[9][12:14, 0:2]\n",
       "  base[2:4, 8:9] = slabs[7][0:2, 0:1]\n",
       "  base[4:5, 0:2] = slabs[9][4:5, 0:2]\n",
       "  base[4:5, 2:4] = slabs[5][2:3, 0:2]\n",
       "  base[4:5, 4:6] = slabs[5][4:5, 0:2]\n",
       "  base[4:5, 6:8] = slabs[9][14:15, 0:2]"
      ]
     },
     "execution_count": 23,
     "metadata": {},
     "output_type": "execute_result"
    }
   ],
   "source": [
    "s2._changes_plan()"
   ]
  },
  {
   "cell_type": "markdown",
   "id": "790d038e-68d0-4800-a495-67c8783b8c1f",
   "metadata": {},
   "source": [
    "### Sparse arrays"
   ]
  },
  {
   "cell_type": "code",
   "execution_count": 24,
   "id": "ddbe0ca0-fd40-422f-be15-3da6422d9ff5",
   "metadata": {},
   "outputs": [
    {
     "data": {
      "text/plain": [
       "StagedChangesArray<shape=(5, 8), chunk_size=(2, 2), dtype=int64, fill_value=0, 0 base slabs, 1 staged slabs>\n",
       "slab_indices:\n",
       "[[0 0 0 0]\n",
       " [0 1 0 0]\n",
       " [0 0 0 0]]\n",
       "slab_offsets:\n",
       "[[0 0 0 0]\n",
       " [0 0 0 0]\n",
       " [0 0 0 0]]"
      ]
     },
     "execution_count": 24,
     "metadata": {},
     "output_type": "execute_result"
    }
   ],
   "source": [
    "s_sparse = StagedChangesArray.full(\n",
    "    shape=(5, 8),\n",
    "    chunk_size=(2, 2),\n",
    "    dtype=int,\n",
    ")\n",
    "s_sparse[3, 2] = 1337\n",
    "s_sparse"
   ]
  },
  {
   "cell_type": "code",
   "execution_count": 25,
   "id": "84b850a1-9c5e-451c-80ae-a3e35b7906a0",
   "metadata": {},
   "outputs": [
    {
     "data": {
      "text/plain": [
       "array([[   0,    0,    0,    0,    0,    0,    0,    0],\n",
       "       [   0,    0,    0,    0,    0,    0,    0,    0],\n",
       "       [   0,    0,    0,    0,    0,    0,    0,    0],\n",
       "       [   0,    0, 1337,    0,    0,    0,    0,    0],\n",
       "       [   0,    0,    0,    0,    0,    0,    0,    0]])"
      ]
     },
     "execution_count": 25,
     "metadata": {},
     "output_type": "execute_result"
    }
   ],
   "source": [
    "s_sparse[:]"
   ]
  },
  {
   "cell_type": "code",
   "execution_count": 26,
   "id": "47c6e3da-e511-49a2-a1aa-222c96ffb055",
   "metadata": {},
   "outputs": [
    {
     "data": {
      "text/plain": [
       "ChangesPlan<1 chunks>\n",
       "  base[2:4, 2:4] = slabs[1][0:2, 0:2]"
      ]
     },
     "execution_count": 26,
     "metadata": {},
     "output_type": "execute_result"
    }
   ],
   "source": [
    "s_sparse._changes_plan()"
   ]
  },
  {
   "cell_type": "code",
   "execution_count": 27,
   "id": "792d6b93-84f0-4d46-824e-2062cb649fba",
   "metadata": {},
   "outputs": [
    {
     "data": {
      "text/plain": [
       "[((slice(2, 4, 1), slice(2, 4, 1)),\n",
       "  1,\n",
       "  array([[   0,    0],\n",
       "         [1337,    0]]))]"
      ]
     },
     "execution_count": 27,
     "metadata": {},
     "output_type": "execute_result"
    }
   ],
   "source": [
    "list(s_sparse.changes())"
   ]
  },
  {
   "cell_type": "code",
   "execution_count": 28,
   "id": "82327ead-f4b5-4ff1-a21a-149632e4145f",
   "metadata": {},
   "outputs": [],
   "source": [
    "a = np.zeros((20_000, 20_000))\n",
    "b = StagedChangesArray.from_array(a, chunk_size=(100, 100))"
   ]
  },
  {
   "cell_type": "code",
   "execution_count": 29,
   "id": "1356730f-00af-44f8-a814-b26878a37ff0",
   "metadata": {},
   "outputs": [
    {
     "data": {
      "text/plain": [
       "StagedChangesArray<shape=(20000, 20000), chunk_size=(100, 100), dtype=float64, fill_value=0.0, 200 base slabs, 0 staged slabs>\n",
       "slab_indices:\n",
       "[[  1   2   3 ... 198 199 200]\n",
       " [  1   2   3 ... 198 199 200]\n",
       " [  1   2   3 ... 198 199 200]\n",
       " ...\n",
       " [  1   2   3 ... 198 199 200]\n",
       " [  1   2   3 ... 198 199 200]\n",
       " [  1   2   3 ... 198 199 200]]\n",
       "slab_offsets:\n",
       "[[    0     0     0 ...     0     0     0]\n",
       " [  100   100   100 ...   100   100   100]\n",
       " [  200   200   200 ...   200   200   200]\n",
       " ...\n",
       " [19700 19700 19700 ... 19700 19700 19700]\n",
       " [19800 19800 19800 ... 19800 19800 19800]\n",
       " [19900 19900 19900 ... 19900 19900 19900]]"
      ]
     },
     "execution_count": 29,
     "metadata": {},
     "output_type": "execute_result"
    }
   ],
   "source": [
    "b"
   ]
  },
  {
   "cell_type": "code",
   "execution_count": null,
   "id": "4b40a990-1414-4525-86a7-90309942789b",
   "metadata": {},
   "outputs": [],
   "source": []
  }
 ],
 "metadata": {
  "kernelspec": {
   "display_name": "Python 3 (ipykernel)",
   "language": "python",
   "name": "python3"
  },
  "language_info": {
   "codemirror_mode": {
    "name": "ipython",
    "version": 3
   },
   "file_extension": ".py",
   "mimetype": "text/x-python",
   "name": "python",
   "nbconvert_exporter": "python",
   "pygments_lexer": "ipython3",
   "version": "3.12.7"
  }
 },
 "nbformat": 4,
 "nbformat_minor": 5
}
