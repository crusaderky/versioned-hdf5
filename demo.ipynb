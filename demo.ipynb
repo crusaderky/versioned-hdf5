{
 "cells": [
  {
   "cell_type": "code",
   "execution_count": 1,
   "id": "381cfdcf-543e-46b1-9202-d39a984d7235",
   "metadata": {},
   "outputs": [
    {
     "name": "stdout",
     "output_type": "stream",
     "text": [
      "<module 'versioned_hdf5.hyperspace' from '/home/crusaderky/github/versioned-hdf5/versioned_hdf5/hyperspace.cpython-312-x86_64-linux-gnu.so'>\n",
      "<module 'versioned_hdf5.staged_changes' from '/home/crusaderky/github/versioned-hdf5/versioned_hdf5/staged_changes.cpython-312-x86_64-linux-gnu.so'>\n",
      "<module 'versioned_hdf5.subchunk_map' from '/home/crusaderky/github/versioned-hdf5/versioned_hdf5/subchunk_map.cpython-312-x86_64-linux-gnu.so'>\n"
     ]
    }
   ],
   "source": [
    "import sys\n",
    "import numpy as np\n",
    "from versioned_hdf5.staged_changes import StagedChangesArray, _fmt_fancy_index\n",
    "\n",
    "print(sys.modules[\"versioned_hdf5.hyperspace\"])\n",
    "print(sys.modules[\"versioned_hdf5.staged_changes\"])\n",
    "print(sys.modules[\"versioned_hdf5.subchunk_map\"])"
   ]
  },
  {
   "cell_type": "markdown",
   "id": "f6818ef7-f130-4ee9-8a00-01e982016fd6",
   "metadata": {},
   "source": [
    "# StagedChangesArray demo"
   ]
  },
  {
   "cell_type": "code",
   "execution_count": 2,
   "id": "3db42456-2be7-48f4-8134-e64269b00dde",
   "metadata": {},
   "outputs": [
    {
     "data": {
      "text/plain": [
       "StagedChangesArray<shape=(8, 8), chunk_size=(2, 2), dtype=int64, fill_value=0, 0 modified chunks>\n",
       "chunk_states:\n",
       "[[0 0 0 0]\n",
       " [0 0 0 0]\n",
       " [0 0 0 0]\n",
       " [0 0 0 0]]"
      ]
     },
     "execution_count": 2,
     "metadata": {},
     "output_type": "execute_result"
    }
   ],
   "source": [
    "base = np.arange(64).reshape(8, 8)\n",
    "def base_getitem(idx):\n",
    "    print(f\"Reading from base: [{_fmt_fancy_index(idx)}]\")\n",
    "    return base[idx]\n",
    "\n",
    "s = StagedChangesArray(\n",
    "    base_getitem,\n",
    "    shape=base.shape,\n",
    "    dtype=base.dtype,\n",
    "    chunk_size=(2, 2),\n",
    ")\n",
    "s"
   ]
  },
  {
   "cell_type": "markdown",
   "id": "4abb516e-562a-42a7-b461-8be565121bce",
   "metadata": {},
   "source": [
    "### \\_\\_setitem\\_\\_()"
   ]
  },
  {
   "cell_type": "code",
   "execution_count": 3,
   "id": "9cd5416f-c48c-4c6a-954f-ab933afe9388",
   "metadata": {},
   "outputs": [
    {
     "data": {
      "text/plain": [
       "SetItemPlan<shape=(3, 3), 2 loads from base into 3 chunks, 0 appends of empty chunks, 0 appends of full chunks, 1 appends from __setitem__ value, 0 replaces with empty chunks, 0 replaces from __setitem__ value, 3 updates>\n",
       "  chunk_values.append(base[2:4, 2:4])  # [1]\n",
       "  v0 = base[4:6, 2:6]\n",
       "  chunk_values.append(v0[:, 0:2])  # [2]\n",
       "  chunk_values.append(v0[:, 2:4])  # [3]\n",
       "  chunk_values.append(values[0:2, 1:3])  # [4]\n",
       "  chunk_values[1][0:2, 1:2] = values[0:2, 0:1]\n",
       "  chunk_values[2][0:1, 1:2] = values[2:3, 0:1]\n",
       "  chunk_values[3][0:1, 0:2] = values[2:3, 1:3]\n",
       "chunk_states:\n",
       "[[0 0 0 0]\n",
       " [0 1 4 0]\n",
       " [0 2 3 0]\n",
       " [0 0 0 0]]"
      ]
     },
     "execution_count": 3,
     "metadata": {},
     "output_type": "execute_result"
    }
   ],
   "source": [
    "s._setitem_plan((slice(2, 5), slice(3, 6)))"
   ]
  },
  {
   "cell_type": "code",
   "execution_count": 4,
   "id": "a6295fb6-fac8-4ce5-be96-29c6578e15ef",
   "metadata": {},
   "outputs": [
    {
     "name": "stdout",
     "output_type": "stream",
     "text": [
      "Reading from base: [2:4, 2:4]\n",
      "Reading from base: [4:6, 2:6]\n"
     ]
    },
    {
     "data": {
      "text/plain": [
       "StagedChangesArray<shape=(8, 8), chunk_size=(2, 2), dtype=int64, fill_value=0, 4 modified chunks>\n",
       "chunk_states:\n",
       "[[0 0 0 0]\n",
       " [0 1 4 0]\n",
       " [0 2 3 0]\n",
       " [0 0 0 0]]"
      ]
     },
     "execution_count": 4,
     "metadata": {},
     "output_type": "execute_result"
    }
   ],
   "source": [
    "s[2:5, 3:6] = np.arange(9).reshape(3, 3) + 1000\n",
    "s"
   ]
  },
  {
   "cell_type": "markdown",
   "id": "1a4dd794-5727-49ce-a406-35cb9b88ce12",
   "metadata": {},
   "source": [
    "### changes()"
   ]
  },
  {
   "cell_type": "code",
   "execution_count": 5,
   "id": "a0a9f858-bc2c-4bcd-b85e-1ef89d9c920d",
   "metadata": {},
   "outputs": [
    {
     "data": {
      "text/plain": [
       "ChangesPlan<0 deleted chunks, 4 chunks in memory, 0 loads from base into 0 chunks>\n",
       "  base[2:4, 2:4] = chunk_values[1]\n",
       "  base[2:4, 4:6] = chunk_values[4]\n",
       "  base[4:6, 2:4] = chunk_values[2]\n",
       "  base[4:6, 4:6] = chunk_values[3]"
      ]
     },
     "execution_count": 5,
     "metadata": {},
     "output_type": "execute_result"
    }
   ],
   "source": [
    "s._changes_plan()"
   ]
  },
  {
   "cell_type": "code",
   "execution_count": 6,
   "id": "3f4239a8-7737-473c-b55b-6007ddd6f832",
   "metadata": {},
   "outputs": [
    {
     "data": {
      "text/plain": [
       "[((slice(2, 4, 1), slice(2, 4, 1)),\n",
       "  array([[  18, 1000],\n",
       "         [  26, 1003]])),\n",
       " ((slice(2, 4, 1), slice(4, 6, 1)),\n",
       "  array([[1001, 1002],\n",
       "         [1004, 1005]])),\n",
       " ((slice(4, 6, 1), slice(2, 4, 1)),\n",
       "  array([[  34, 1006],\n",
       "         [  42,   43]])),\n",
       " ((slice(4, 6, 1), slice(4, 6, 1)),\n",
       "  array([[1007, 1008],\n",
       "         [  44,   45]]))]"
      ]
     },
     "execution_count": 6,
     "metadata": {},
     "output_type": "execute_result"
    }
   ],
   "source": [
    "list(s.changes())"
   ]
  },
  {
   "cell_type": "markdown",
   "id": "42385019-402c-46c1-a092-e8a7a6d5a2ea",
   "metadata": {},
   "source": [
    "### \\_\\_getitem\\_\\_()"
   ]
  },
  {
   "cell_type": "code",
   "execution_count": 7,
   "id": "97593e85-27e0-4aa9-873a-3b4839bd6221",
   "metadata": {},
   "outputs": [
    {
     "data": {
      "text/plain": [
       "GetItemPlan<shape=(8, 8), 4 modified chunks, 0 full chunks, 6 direct reads>\n",
       "  res[2:4, 2:4] = chunk_values[1][0:2, 0:2]\n",
       "  res[2:4, 4:6] = chunk_values[4][0:2, 0:2]\n",
       "  res[4:6, 2:4] = chunk_values[2][0:2, 0:2]\n",
       "  res[4:6, 4:6] = chunk_values[3][0:2, 0:2]\n",
       "  res[0:2, 0:8] = base[0:2, 0:8]\n",
       "  res[2:4, 0:2] = base[2:4, 0:2]\n",
       "  res[2:4, 6:8] = base[2:4, 6:8]\n",
       "  res[4:6, 0:2] = base[4:6, 0:2]\n",
       "  res[4:6, 6:8] = base[4:6, 6:8]\n",
       "  res[6:8, 0:8] = base[6:8, 0:8]"
      ]
     },
     "execution_count": 7,
     "metadata": {},
     "output_type": "execute_result"
    }
   ],
   "source": [
    "s._getitem_plan(())"
   ]
  },
  {
   "cell_type": "code",
   "execution_count": 8,
   "id": "72a990ad-7ed4-4e01-bf23-4837779f2f69",
   "metadata": {},
   "outputs": [
    {
     "name": "stdout",
     "output_type": "stream",
     "text": [
      "Reading from base: [0:2, 0:8]\n",
      "Reading from base: [2:4, 0:2]\n",
      "Reading from base: [2:4, 6:8]\n",
      "Reading from base: [4:6, 0:2]\n",
      "Reading from base: [4:6, 6:8]\n",
      "Reading from base: [6:8, 0:8]\n"
     ]
    },
    {
     "data": {
      "text/plain": [
       "array([[   0,    1,    2,    3,    4,    5,    6,    7],\n",
       "       [   8,    9,   10,   11,   12,   13,   14,   15],\n",
       "       [  16,   17,   18, 1000, 1001, 1002,   22,   23],\n",
       "       [  24,   25,   26, 1003, 1004, 1005,   30,   31],\n",
       "       [  32,   33,   34, 1006, 1007, 1008,   38,   39],\n",
       "       [  40,   41,   42,   43,   44,   45,   46,   47],\n",
       "       [  48,   49,   50,   51,   52,   53,   54,   55],\n",
       "       [  56,   57,   58,   59,   60,   61,   62,   63]])"
      ]
     },
     "execution_count": 8,
     "metadata": {},
     "output_type": "execute_result"
    }
   ],
   "source": [
    "s[:]"
   ]
  },
  {
   "cell_type": "code",
   "execution_count": 9,
   "id": "08380211-132a-4e85-bf7a-c75c322ae434",
   "metadata": {},
   "outputs": [
    {
     "data": {
      "text/plain": [
       "StagedChangesArray<shape=(8, 8), chunk_size=(2, 2), dtype=int64, fill_value=0, 4 modified chunks>\n",
       "chunk_states:\n",
       "[[0 0 0 0]\n",
       " [0 1 4 0]\n",
       " [0 2 3 0]\n",
       " [0 0 0 0]]"
      ]
     },
     "execution_count": 9,
     "metadata": {},
     "output_type": "execute_result"
    }
   ],
   "source": [
    "# __getitem__ loads data transparently from base to output\n",
    "# (no cache on read)\n",
    "s"
   ]
  },
  {
   "cell_type": "markdown",
   "id": "1370dbe6-b0ec-431a-8dd7-41d5fcb41fd8",
   "metadata": {},
   "source": [
    "### resize()\n",
    "When enlarging, new chunks full of fillvalue all point to `chunk_values[0]`.\n",
    "\n",
    "It may also be necessary to load partially resized chunks from base."
   ]
  },
  {
   "cell_type": "code",
   "execution_count": 10,
   "id": "547e4293-38fe-4e46-b96d-66f356db5427",
   "metadata": {},
   "outputs": [
    {
     "data": {
      "text/plain": [
       "ResizePlan<2 loads from base into 2 chunks, 4 updates, 0 deletes>\n",
       "  chunk_values.append(base[4:6, 0:2])  # [5]\n",
       "  chunk_values.append(base[4:6, 6:8])  # [6]\n",
       "  resize chunk_values[5] to size=1 along axis=0\n",
       "  resize chunk_values[2] to size=1 along axis=0\n",
       "  resize chunk_values[3] to size=1 along axis=0\n",
       "  resize chunk_values[6] to size=1 along axis=0\n",
       "chunk_states:\n",
       "[[ 0  0  0  0 -1]\n",
       " [ 0  1  4  0 -1]\n",
       " [ 5  2  3  6 -1]]"
      ]
     },
     "execution_count": 10,
     "metadata": {},
     "output_type": "execute_result"
    }
   ],
   "source": [
    "s._resize_plan((5, 9))"
   ]
  },
  {
   "cell_type": "code",
   "execution_count": 11,
   "id": "193cc346-75b5-46fc-be4e-8dd6403299a1",
   "metadata": {},
   "outputs": [
    {
     "name": "stdout",
     "output_type": "stream",
     "text": [
      "Reading from base: [4:6, 0:2]\n",
      "Reading from base: [4:6, 6:8]\n"
     ]
    }
   ],
   "source": [
    "s.resize((5, 9))"
   ]
  },
  {
   "cell_type": "code",
   "execution_count": 12,
   "id": "972ed64c-244f-4031-b6a5-19bebf4f11c8",
   "metadata": {},
   "outputs": [
    {
     "data": {
      "text/plain": [
       "StagedChangesArray<shape=(5, 9), chunk_size=(2, 2), dtype=int64, fill_value=0, 6 modified chunks>\n",
       "chunk_states:\n",
       "[[ 0  0  0  0 -1]\n",
       " [ 0  1  4  0 -1]\n",
       " [ 5  2  3  6 -1]]"
      ]
     },
     "execution_count": 12,
     "metadata": {},
     "output_type": "execute_result"
    }
   ],
   "source": [
    "s"
   ]
  },
  {
   "cell_type": "code",
   "execution_count": 13,
   "id": "01e6d469-b932-42c6-8bfa-2d5189ce19e8",
   "metadata": {},
   "outputs": [
    {
     "name": "stdout",
     "output_type": "stream",
     "text": [
      "Reading from base: [0:2, 0:8]\n",
      "Reading from base: [2:4, 0:2]\n",
      "Reading from base: [2:4, 6:8]\n"
     ]
    },
    {
     "data": {
      "text/plain": [
       "array([[   0,    1,    2,    3,    4,    5,    6,    7,    0],\n",
       "       [   8,    9,   10,   11,   12,   13,   14,   15,    0],\n",
       "       [  16,   17,   18, 1000, 1001, 1002,   22,   23,    0],\n",
       "       [  24,   25,   26, 1003, 1004, 1005,   30,   31,    0],\n",
       "       [  32,   33,   34, 1006, 1007, 1008,   38,   39,    0]])"
      ]
     },
     "execution_count": 13,
     "metadata": {},
     "output_type": "execute_result"
    }
   ],
   "source": [
    "s[:]"
   ]
  },
  {
   "cell_type": "code",
   "execution_count": 14,
   "id": "f7848813-aaef-409a-82d9-c9a871547295",
   "metadata": {},
   "outputs": [
    {
     "data": {
      "text/plain": [
       "SetItemPlan<shape=(3,), 0 loads from base into 0 chunks, 1 appends of empty chunks, 1 appends of full chunks, 0 appends from __setitem__ value, 0 replaces with empty chunks, 0 replaces from __setitem__ value, 2 updates>\n",
       "  chunk_values.append(np.empty((2, 1))  # [7]\n",
       "  chunk_values.append(np.full((2, 1), fill_value)  # [8]\n",
       "  chunk_values[7][0:2, 0] = values[0:2]\n",
       "  chunk_values[8][0:1, 0] = values[2:3]\n",
       "chunk_states:\n",
       "[[ 0  0  0  0  7]\n",
       " [ 0  1  4  0  8]\n",
       " [ 5  2  3  6 -1]]"
      ]
     },
     "execution_count": 14,
     "metadata": {},
     "output_type": "execute_result"
    }
   ],
   "source": [
    "# __setitem__() encroaching on full chunks\n",
    "# (wholly on chunk row 0, partially on chunk row 1)\n",
    "s._setitem_plan((slice(0, 3), -1))"
   ]
  },
  {
   "cell_type": "code",
   "execution_count": 15,
   "id": "30639958-9490-4434-8be3-7fda5950bd60",
   "metadata": {},
   "outputs": [],
   "source": [
    "s[:3, -1] = 2000"
   ]
  },
  {
   "cell_type": "code",
   "execution_count": 16,
   "id": "30200dfa-9049-4b08-b952-a6e6487dbb6e",
   "metadata": {},
   "outputs": [
    {
     "data": {
      "text/plain": [
       "StagedChangesArray<shape=(5, 9), chunk_size=(2, 2), dtype=int64, fill_value=0, 8 modified chunks>\n",
       "chunk_states:\n",
       "[[ 0  0  0  0  7]\n",
       " [ 0  1  4  0  8]\n",
       " [ 5  2  3  6 -1]]"
      ]
     },
     "execution_count": 16,
     "metadata": {},
     "output_type": "execute_result"
    }
   ],
   "source": [
    "s"
   ]
  },
  {
   "cell_type": "code",
   "execution_count": 17,
   "id": "5c96ebbd-3745-4a1c-8cf9-1ee75bf5bdbe",
   "metadata": {},
   "outputs": [
    {
     "name": "stdout",
     "output_type": "stream",
     "text": [
      "Reading from base: [0:2, 0:8]\n",
      "Reading from base: [2:4, 0:2]\n",
      "Reading from base: [2:4, 6:8]\n"
     ]
    },
    {
     "data": {
      "text/plain": [
       "array([[   0,    1,    2,    3,    4,    5,    6,    7, 2000],\n",
       "       [   8,    9,   10,   11,   12,   13,   14,   15, 2000],\n",
       "       [  16,   17,   18, 1000, 1001, 1002,   22,   23, 2000],\n",
       "       [  24,   25,   26, 1003, 1004, 1005,   30,   31,    0],\n",
       "       [  32,   33,   34, 1006, 1007, 1008,   38,   39,    0]])"
      ]
     },
     "execution_count": 17,
     "metadata": {},
     "output_type": "execute_result"
    }
   ],
   "source": [
    "s[:]"
   ]
  },
  {
   "cell_type": "code",
   "execution_count": 18,
   "id": "93ddbd69-eaa6-4aee-a689-6831367635e4",
   "metadata": {},
   "outputs": [
    {
     "data": {
      "text/plain": [
       "ChangesPlan<8 deleted chunks, 8 chunks in memory, 0 loads from base into 0 chunks>\n",
       "  del base[4:6, 0:2]\n",
       "  del base[4:6, 2:4]\n",
       "  del base[4:6, 4:6]\n",
       "  del base[4:6, 6:8]\n",
       "  del base[6:8, 0:2]\n",
       "  del base[6:8, 2:4]\n",
       "  del base[6:8, 4:6]\n",
       "  del base[6:8, 6:8]\n",
       "  base[0:2, 8:9] = chunk_values[7]\n",
       "  base[2:4, 2:4] = chunk_values[1]\n",
       "  base[2:4, 4:6] = chunk_values[4]\n",
       "  base[2:4, 8:9] = chunk_values[8]\n",
       "  base[4:5, 0:2] = chunk_values[5]\n",
       "  base[4:5, 2:4] = chunk_values[2]\n",
       "  base[4:5, 4:6] = chunk_values[3]\n",
       "  base[4:5, 6:8] = chunk_values[6]"
      ]
     },
     "execution_count": 18,
     "metadata": {},
     "output_type": "execute_result"
    }
   ],
   "source": [
    "s._changes_plan()"
   ]
  },
  {
   "cell_type": "markdown",
   "id": "d3a762f6-322a-4457-8078-f2eea0e7cd82",
   "metadata": {},
   "source": [
    "### astype()\n",
    "StagedChangesArray.astype() is lazy: it won't read from disk until you call changes()."
   ]
  },
  {
   "cell_type": "code",
   "execution_count": 19,
   "id": "05ebb7aa-7e79-422b-a9e6-a229a56393d0",
   "metadata": {},
   "outputs": [],
   "source": [
    "s2 = s.astype(float)"
   ]
  },
  {
   "cell_type": "code",
   "execution_count": 20,
   "id": "56dcec2c-71b5-4e45-b02f-3fdaf477201a",
   "metadata": {},
   "outputs": [
    {
     "data": {
      "text/plain": [
       "StagedChangesArray<shape=(5, 9), chunk_size=(2, 2), dtype=float64, fill_value=0.0, 8 modified chunks>\n",
       "chunk_states:\n",
       "[[ 0  0  0  0  7]\n",
       " [ 0  1  4  0  8]\n",
       " [ 5  2  3  6 -1]]"
      ]
     },
     "execution_count": 20,
     "metadata": {},
     "output_type": "execute_result"
    }
   ],
   "source": [
    "s2"
   ]
  },
  {
   "cell_type": "code",
   "execution_count": 21,
   "id": "c9115596-f41c-4d6d-aea4-7ebb5a41a2ee",
   "metadata": {},
   "outputs": [
    {
     "data": {
      "text/plain": [
       "ChangesPlan<8 deleted chunks, 8 chunks in memory, 3 loads from base into 6 chunks>\n",
       "  del base[4:6, 0:2]\n",
       "  del base[4:6, 2:4]\n",
       "  del base[4:6, 4:6]\n",
       "  del base[4:6, 6:8]\n",
       "  del base[6:8, 0:2]\n",
       "  del base[6:8, 2:4]\n",
       "  del base[6:8, 4:6]\n",
       "  del base[6:8, 6:8]\n",
       "  base[0:2, 8:9] = chunk_values[7]\n",
       "  base[2:4, 2:4] = chunk_values[1]\n",
       "  base[2:4, 4:6] = chunk_values[4]\n",
       "  base[2:4, 8:9] = chunk_values[8]\n",
       "  base[4:5, 0:2] = chunk_values[5]\n",
       "  base[4:5, 2:4] = chunk_values[2]\n",
       "  base[4:5, 4:6] = chunk_values[3]\n",
       "  base[4:5, 6:8] = chunk_values[6]\n",
       "  v0 = base[0:2, 0:8]\n",
       "  out[0:2, 0:2] = v0[:, 0:2]\n",
       "  out[0:2, 2:4] = v0[:, 2:4]\n",
       "  out[0:2, 4:6] = v0[:, 4:6]\n",
       "  out[0:2, 6:8] = v0[:, 6:8]\n",
       "  out[2:4, 0:2] = base[2:4, 0:2]\n",
       "  out[2:4, 6:8] = base[2:4, 6:8]"
      ]
     },
     "execution_count": 21,
     "metadata": {},
     "output_type": "execute_result"
    }
   ],
   "source": [
    "s2._changes_plan()"
   ]
  },
  {
   "cell_type": "markdown",
   "id": "790d038e-68d0-4800-a495-67c8783b8c1f",
   "metadata": {},
   "source": [
    "### Sparse arrays"
   ]
  },
  {
   "cell_type": "code",
   "execution_count": 22,
   "id": "ddbe0ca0-fd40-422f-be15-3da6422d9ff5",
   "metadata": {},
   "outputs": [
    {
     "data": {
      "text/plain": [
       "StagedChangesArray<shape=(5, 8), chunk_size=(2, 2), dtype=float64, fill_value=0.0, 1 modified chunks>\n",
       "chunk_states:\n",
       "[[-1 -1 -1 -1]\n",
       " [-1  1 -1 -1]\n",
       " [-1 -1 -1 -1]]"
      ]
     },
     "execution_count": 22,
     "metadata": {},
     "output_type": "execute_result"
    }
   ],
   "source": [
    "s_sparse = StagedChangesArray.full(\n",
    "    shape=(5, 8),\n",
    "    chunk_size=(2, 2),\n",
    ")\n",
    "s_sparse[3, 2] = 1337\n",
    "s_sparse"
   ]
  },
  {
   "cell_type": "code",
   "execution_count": 23,
   "id": "84b850a1-9c5e-451c-80ae-a3e35b7906a0",
   "metadata": {},
   "outputs": [
    {
     "data": {
      "text/plain": [
       "array([[   0.,    0.,    0.,    0.,    0.,    0.,    0.,    0.],\n",
       "       [   0.,    0.,    0.,    0.,    0.,    0.,    0.,    0.],\n",
       "       [   0.,    0.,    0.,    0.,    0.,    0.,    0.,    0.],\n",
       "       [   0.,    0., 1337.,    0.,    0.,    0.,    0.,    0.],\n",
       "       [   0.,    0.,    0.,    0.,    0.,    0.,    0.,    0.]])"
      ]
     },
     "execution_count": 23,
     "metadata": {},
     "output_type": "execute_result"
    }
   ],
   "source": [
    "s_sparse[:]"
   ]
  },
  {
   "cell_type": "code",
   "execution_count": 24,
   "id": "47c6e3da-e511-49a2-a1aa-222c96ffb055",
   "metadata": {},
   "outputs": [
    {
     "data": {
      "text/plain": [
       "ChangesPlan<0 deleted chunks, 1 chunks in memory, 0 loads from base into 0 chunks>\n",
       "  base[2:4, 2:4] = chunk_values[1]"
      ]
     },
     "execution_count": 24,
     "metadata": {},
     "output_type": "execute_result"
    }
   ],
   "source": [
    "s_sparse._changes_plan()"
   ]
  },
  {
   "cell_type": "code",
   "execution_count": 25,
   "id": "792d6b93-84f0-4d46-824e-2062cb649fba",
   "metadata": {},
   "outputs": [
    {
     "data": {
      "text/plain": [
       "[((slice(2, 4, 1), slice(2, 4, 1)),\n",
       "  array([[   0.,    0.],\n",
       "         [1337.,    0.]]))]"
      ]
     },
     "execution_count": 25,
     "metadata": {},
     "output_type": "execute_result"
    }
   ],
   "source": [
    "list(s_sparse.changes())"
   ]
  },
  {
   "cell_type": "markdown",
   "id": "98b1998f-33f1-49f1-a826-b18b8135c359",
   "metadata": {},
   "source": [
    "### Copy-on-Write (CoW)"
   ]
  },
  {
   "cell_type": "code",
   "execution_count": 26,
   "id": "8b04aaac-8f8c-4c1e-82d0-1cfa981da150",
   "metadata": {},
   "outputs": [
    {
     "name": "stdout",
     "output_type": "stream",
     "text": [
      "Reading from base: [0:2, 4:6]\n",
      "Reading from base: [0:2, 2:4]\n",
      "Reading from base: [0:2, 0:4]\n",
      "Reading from base: [2:4, 0:2]\n"
     ]
    },
    {
     "data": {
      "text/plain": [
       "array([[   0,    1,    2,    3,    4],\n",
       "       [   8,    9,   10,   11,   12],\n",
       "       [  16,   17,   18, 1000, 1001],\n",
       "       [  24,   25,   26, 1003,  999],\n",
       "       [  32,   33,   34, 1006, 1007]])"
      ]
     },
     "execution_count": 26,
     "metadata": {},
     "output_type": "execute_result"
    }
   ],
   "source": [
    "s2 = s.copy()\n",
    "s2.resize((5, 5))\n",
    "s2[3, 4] = 999\n",
    "s[0, 3] = 0\n",
    "s2[:]"
   ]
  },
  {
   "cell_type": "code",
   "execution_count": 27,
   "id": "be31aa5a-e8b2-4537-88d9-92e8041e4ec3",
   "metadata": {},
   "outputs": [
    {
     "name": "stdout",
     "output_type": "stream",
     "text": [
      "Reading from base: [0:2, 0:2]\n",
      "Reading from base: [0:2, 4:8]\n",
      "Reading from base: [2:4, 0:2]\n",
      "Reading from base: [2:4, 6:8]\n"
     ]
    },
    {
     "data": {
      "text/plain": [
       "array([[   0,    1,    2,    0,    4,    5,    6,    7, 2000],\n",
       "       [   8,    9,   10,   11,   12,   13,   14,   15, 2000],\n",
       "       [  16,   17,   18, 1000, 1001, 1002,   22,   23, 2000],\n",
       "       [  24,   25,   26, 1003, 1004, 1005,   30,   31,    0],\n",
       "       [  32,   33,   34, 1006, 1007, 1008,   38,   39,    0]])"
      ]
     },
     "execution_count": 27,
     "metadata": {},
     "output_type": "execute_result"
    }
   ],
   "source": [
    "s[:]"
   ]
  },
  {
   "cell_type": "code",
   "execution_count": 28,
   "id": "4aa98ac3-a364-4574-9fda-a831c33be2d5",
   "metadata": {},
   "outputs": [
    {
     "data": {
      "text/plain": [
       "[True, True, True, False, False, True, False, False, False, False]"
      ]
     },
     "execution_count": 28,
     "metadata": {},
     "output_type": "execute_result"
    }
   ],
   "source": [
    "[a is b for a, b in zip(s.chunk_values, s2.chunk_values)]"
   ]
  },
  {
   "cell_type": "code",
   "execution_count": 29,
   "id": "8b0442db-05b4-4862-9d85-059f5c77ab50",
   "metadata": {},
   "outputs": [
    {
     "name": "stdout",
     "output_type": "stream",
     "text": [
      "Reading from base: [0:2, 0:2]\n",
      "Reading from base: [0:2, 4:8]\n",
      "Reading from base: [2:4, 0:2]\n",
      "Reading from base: [2:4, 6:8]\n"
     ]
    },
    {
     "data": {
      "text/plain": [
       "array([[ 777,    1,    2,  777,    4,    5,    6,    7, 2000],\n",
       "       [   8,    9,   10,   11,   12,   13,   14,   15, 2000],\n",
       "       [  16,   17,   18, 1000, 1001, 1002,   22,   23, 2000],\n",
       "       [  24,   25,   26, 1003, 1004, 1005,   30,   31,  777],\n",
       "       [  32,   33,   34, 1006, 1007, 1008,   38,   39,  777]])"
      ]
     },
     "execution_count": 29,
     "metadata": {},
     "output_type": "execute_result"
    }
   ],
   "source": [
    "# Chunk (0, 0) is not in memory so it is loaded and refilled lazily as needed\n",
    "# Chunk (0, 1) is in memory and partially full, so it is copied and refilled eagerly\n",
    "# Bottom-right chunk is full of fill_value, so it is lazily refilled\n",
    "s3 = s.refill(777)\n",
    "s3[:]"
   ]
  },
  {
   "cell_type": "code",
   "execution_count": 30,
   "id": "ffd68bb0-286f-4d70-bd4b-a0474a158277",
   "metadata": {},
   "outputs": [
    {
     "data": {
      "text/plain": [
       "[True, True, True, True, True, True, True, True, False, False]"
      ]
     },
     "execution_count": 30,
     "metadata": {},
     "output_type": "execute_result"
    }
   ],
   "source": [
    "[a is b for a, b in zip(s.chunk_values, s3.chunk_values)]"
   ]
  },
  {
   "cell_type": "markdown",
   "id": "66842c2f-f6a4-4c9e-9ee9-f63e405fbc34",
   "metadata": {},
   "source": [
    "### The fill_hyperspace function"
   ]
  },
  {
   "cell_type": "code",
   "execution_count": 31,
   "id": "5a6abf22-cac3-453a-b565-b20efc2b1eeb",
   "metadata": {},
   "outputs": [
    {
     "data": {
      "text/plain": [
       "array([[0, 0, 0, 0, 0, 0, 0, 0, 0, 0],\n",
       "       [0, 0, 0, 0, 0, 0, 0, 0, 0, 0],\n",
       "       [0, 0, 0, 0, 1, 3, 0, 0, 0, 0],\n",
       "       [0, 0, 0, 0, 0, 0, 0, 0, 0, 0],\n",
       "       [0, 0, 0, 0, 0, 0, 0, 0, 0, 0],\n",
       "       [0, 0, 0, 0, 0, 0, 0, 2, 0, 0],\n",
       "       [0, 0, 0, 0, 0, 0, 0, 0, 0, 0],\n",
       "       [0, 0, 0, 0, 0, 0, 0, 0, 0, 0]])"
      ]
     },
     "execution_count": 31,
     "metadata": {},
     "output_type": "execute_result"
    }
   ],
   "source": [
    "from versioned_hdf5.hyperspace import fill_hyperspace\n",
    "from versioned_hdf5.subchunk_map import EverythingMapper\n",
    "from versioned_hdf5.staged_changes import _modified_chunks_in_selection\n",
    "\n",
    "space = np.zeros((8, 10), dtype=int)\n",
    "space[2, 4] = 1\n",
    "space[2, 5] = 3\n",
    "space[5, 7] = 2\n",
    "space"
   ]
  },
  {
   "cell_type": "code",
   "execution_count": 32,
   "id": "0ba5190f-d185-499b-9e9f-c5e562bc9c5e",
   "metadata": {},
   "outputs": [
    {
     "data": {
      "text/plain": [
       "array([[2, 4, 1],\n",
       "       [2, 5, 3],\n",
       "       [5, 7, 2]])"
      ]
     },
     "execution_count": 32,
     "metadata": {},
     "output_type": "execute_result"
    }
   ],
   "source": [
    "modified_chunks, _ = _modified_chunks_in_selection(\n",
    "    space,\n",
    "    [EverythingMapper(10, s * 10) for s in space.shape],\n",
    ")\n",
    "modified_chunks"
   ]
  },
  {
   "cell_type": "code",
   "execution_count": 33,
   "id": "0ccfd798-9252-4bbb-9f06-a562e3831c8f",
   "metadata": {},
   "outputs": [
    {
     "data": {
      "text/plain": [
       "array([[ 0,  0,  2, 10],\n",
       "       [ 2,  0,  3,  4],\n",
       "       [ 2,  6,  3, 10],\n",
       "       [ 3,  0,  5, 10],\n",
       "       [ 5,  0,  6,  7],\n",
       "       [ 5,  8,  6, 10],\n",
       "       [ 6,  0,  8, 10]])"
      ]
     },
     "execution_count": 33,
     "metadata": {},
     "output_type": "execute_result"
    }
   ],
   "source": [
    "ndim = space.ndim\n",
    "obstacles = modified_chunks[:, :ndim]\n",
    "hyperrectangles = fill_hyperspace(obstacles=obstacles, shape=(8, 10))\n",
    "np.asarray(hyperrectangles)"
   ]
  },
  {
   "cell_type": "code",
   "execution_count": 34,
   "id": "166b2d12-22ce-44af-8414-ea6fe960c209",
   "metadata": {},
   "outputs": [
    {
     "data": {
      "text/plain": [
       "array([[10, 10, 10, 10, 10, 10, 10, 10, 10, 10],\n",
       "       [10, 10, 10, 10, 10, 10, 10, 10, 10, 10],\n",
       "       [11, 11, 11, 11,  1,  3, 12, 12, 12, 12],\n",
       "       [13, 13, 13, 13, 13, 13, 13, 13, 13, 13],\n",
       "       [13, 13, 13, 13, 13, 13, 13, 13, 13, 13],\n",
       "       [14, 14, 14, 14, 14, 14, 14,  2, 15, 15],\n",
       "       [16, 16, 16, 16, 16, 16, 16, 16, 16, 16],\n",
       "       [16, 16, 16, 16, 16, 16, 16, 16, 16, 16]])"
      ]
     },
     "execution_count": 34,
     "metadata": {},
     "output_type": "execute_result"
    }
   ],
   "source": [
    "i = 10\n",
    "for hyperrect in hyperrectangles:\n",
    "    idx = tuple(\n",
    "        slice(a, b)\n",
    "        for a, b in zip(hyperrect[:ndim], hyperrect[ndim:])\n",
    "    )\n",
    "    assert (space[idx] == 0).all()\n",
    "    space[idx] = i\n",
    "    i += 1\n",
    "\n",
    "space"
   ]
  },
  {
   "cell_type": "code",
   "execution_count": 35,
   "id": "ed7e5277-d59a-4d18-8caa-342ee16e9319",
   "metadata": {},
   "outputs": [
    {
     "name": "stdout",
     "output_type": "stream",
     "text": [
      "CPU times: user 4.42 ms, sys: 21 μs, total: 4.44 ms\n",
      "Wall time: 4.46 ms\n"
     ]
    },
    {
     "data": {
      "text/plain": [
       "array([[    0,     4, 93094],\n",
       "       [    0,    27, 43556],\n",
       "       [    0,    76, 82239],\n",
       "       ...,\n",
       "       [  999,   916, 18975],\n",
       "       [  999,   994, 87212],\n",
       "       [  999,   997, 62516]])"
      ]
     },
     "execution_count": 35,
     "metadata": {},
     "output_type": "execute_result"
    }
   ],
   "source": [
    "shape = (1000, 1000)  # 1 million chunks\n",
    "n_obstacles = 100_000  # 10%\n",
    "space = np.zeros(shape, dtype=np.intp)\n",
    "np.random.seed(0)\n",
    "obstacles = np.random.choice(np.arange(space.size), n_obstacles)\n",
    "space.flat[obstacles] = np.arange(1, space.size + 1)\n",
    "mappers = [EverythingMapper(10, s * 10) for s in space.shape]\n",
    "\n",
    "%time modified_chunks, _ = _modified_chunks_in_selection(space, mappers)\n",
    "modified_chunks"
   ]
  },
  {
   "cell_type": "code",
   "execution_count": 36,
   "id": "c15c277c-514a-49b2-b528-b3f8031eff56",
   "metadata": {},
   "outputs": [
    {
     "name": "stdout",
     "output_type": "stream",
     "text": [
      "CPU times: user 22.9 ms, sys: 2.97 ms, total: 25.9 ms\n",
      "Wall time: 25.6 ms\n",
      "86870\n"
     ]
    },
    {
     "data": {
      "text/plain": [
       "array([[   0,    0,    1,    4],\n",
       "       [   0,    5,    1,   27],\n",
       "       [   0,   28,    1,   76],\n",
       "       ...,\n",
       "       [ 999,  917, 1000,  994],\n",
       "       [ 999,  995, 1000,  997],\n",
       "       [ 999,  998, 1000, 1000]])"
      ]
     },
     "execution_count": 36,
     "metadata": {},
     "output_type": "execute_result"
    }
   ],
   "source": [
    "obstacles = modified_chunks[:, :ndim]\n",
    "%time hyperrectangles = fill_hyperspace(obstacles=obstacles, shape=space.shape)\n",
    "print(len(hyperrectangles))\n",
    "np.asarray(hyperrectangles)"
   ]
  },
  {
   "cell_type": "code",
   "execution_count": null,
   "id": "82327ead-f4b5-4ff1-a21a-149632e4145f",
   "metadata": {},
   "outputs": [],
   "source": []
  }
 ],
 "metadata": {
  "kernelspec": {
   "display_name": "Python 3 (ipykernel)",
   "language": "python",
   "name": "python3"
  },
  "language_info": {
   "codemirror_mode": {
    "name": "ipython",
    "version": 3
   },
   "file_extension": ".py",
   "mimetype": "text/x-python",
   "name": "python",
   "nbconvert_exporter": "python",
   "pygments_lexer": "ipython3",
   "version": "3.12.4"
  }
 },
 "nbformat": 4,
 "nbformat_minor": 5
}
