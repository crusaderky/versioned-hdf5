{
 "cells": [
  {
   "cell_type": "code",
   "execution_count": 1,
   "id": "0fb9ca0a-17a7-4d61-a736-9f3c2884456e",
   "metadata": {},
   "outputs": [],
   "source": [
    "import sys\n",
    "import tempfile\n",
    "\n",
    "import h5py\n",
    "import numpy as np\n",
    "\n",
    "from versioned_hdf5 import VersionedHDF5File\n",
    "\n",
    "shape = (17, 17)\n",
    "chunks = (10, 10)\n",
    "\n",
    "tmpdir = tempfile.TemporaryDirectory()\n",
    "path = f\"{tmpdir.name}/data.h5\"\n",
    "\n",
    "with h5py.File(path, \"w\") as f:\n",
    "    vf = VersionedHDF5File(f)\n",
    "    with vf.stage_version(\"r0\") as sv:\n",
    "        sv.create_dataset(\n",
    "            \"value\",\n",
    "            data=np.arange(1, np.prod(shape) + 1).reshape(shape),\n",
    "            chunks=(chunks),\n",
    "            maxshape=(None, None),\n",
    "            fillvalue=1337,\n",
    "        )"
   ]
  },
  {
   "cell_type": "code",
   "execution_count": 2,
   "id": "678a5713-83f1-4585-9fe8-3941b0648dca",
   "metadata": {},
   "outputs": [],
   "source": [
    "f = h5py.File(path, \"r+\")\n",
    "vf = VersionedHDF5File(f)\n",
    "ctx = vf.stage_version(\"r1\")\n",
    "sv = ctx.__enter__()\n",
    "dset = sv[\"value\"]"
   ]
  },
  {
   "cell_type": "code",
   "execution_count": 3,
   "id": "b6f89fd1-29cc-4626-9f11-48fa8f3a3ab3",
   "metadata": {},
   "outputs": [
    {
     "data": {
      "text/plain": [
       "StagedChangesArray<shape=(17, 17), chunk_size=(10, 10), dtype=int64, fill_value=1337, 1 base slabs, 0 staged slabs>\n",
       "slab_indices:\n",
       "[[1 1]\n",
       " [1 1]]\n",
       "slab_offsets:\n",
       "[[ 0 10]\n",
       " [20 30]]"
      ]
     },
     "execution_count": 3,
     "metadata": {},
     "output_type": "execute_result"
    }
   ],
   "source": [
    "dset.dataset.staged_changes"
   ]
  },
  {
   "cell_type": "code",
   "execution_count": 4,
   "id": "d04eda24-c1f1-455a-8452-3aff60314fd3",
   "metadata": {},
   "outputs": [
    {
     "data": {
      "text/plain": [
       "StagedChangesArray<shape=(17, 17), chunk_size=(10, 10), dtype=int64, fill_value=1337, 1 base slabs, 1 staged slabs>\n",
       "slab_indices:\n",
       "[[2 2]\n",
       " [2 2]]\n",
       "slab_offsets:\n",
       "[[ 0 10]\n",
       " [20 30]]"
      ]
     },
     "execution_count": 4,
     "metadata": {},
     "output_type": "execute_result"
    }
   ],
   "source": [
    "dset.dataset.staged_changes.load()\n",
    "dset.dataset.staged_changes"
   ]
  },
  {
   "cell_type": "code",
   "execution_count": 5,
   "id": "17cfcc71-cea0-41bb-b10e-a32b48ba5f5b",
   "metadata": {},
   "outputs": [
    {
     "name": "stdout",
     "output_type": "stream",
     "text": [
      "5005acb81cb04e3068acc1bc172cbb8347bd0009d2e0b380b579d0ee976c87d6 [ 0 10]\n",
      "62529ef56b786159d34d41233205d97293ca624ab89abba777d2757280ebec33 [10 20]\n",
      "3d3abca5a66f1597b9264e9a1d3f29c1bb40e2aec866e4de372185ed03219c22 [20 27]\n",
      "8aa5369b8aa4d13e81d975a8dba3ba274346d1ccebfda9c32ac1528df1eb9cad [30 37]\n"
     ]
    }
   ],
   "source": [
    "for i in range(4):\n",
    "    print(f['_version_data/value/hash_table'][i][\"hash\"].tobytes().hex(), end=\"\")\n",
    "    print(\"\", f['_version_data/value/hash_table'][i][\"shape\"])"
   ]
  },
  {
   "cell_type": "code",
   "execution_count": 6,
   "id": "58bec958-fc06-4fa3-8b9c-594b9c4627e9",
   "metadata": {},
   "outputs": [
    {
     "name": "stdout",
     "output_type": "stream",
     "text": [
      "5005acb81cb04e3068acc1bc172cbb8347bd0009d2e0b380b579d0ee976c87d6 (10, 10)\n",
      "62529ef56b786159d34d41233205d97293ca624ab89abba777d2757280ebec33 (10, 7)\n",
      "3d3abca5a66f1597b9264e9a1d3f29c1bb40e2aec866e4de372185ed03219c22 (7, 10)\n",
      "8aa5369b8aa4d13e81d975a8dba3ba274346d1ccebfda9c32ac1528df1eb9cad (7, 7)\n"
     ]
    }
   ],
   "source": [
    "import hashlib\n",
    "for _, _, chunk in dset.dataset.staged_changes.changes():\n",
    "    h = hashlib.sha256()\n",
    "    h.update(np.ascontiguousarray(chunk))\n",
    "    h.update(bytes(str(chunk.shape), \"ascii\"))\n",
    "    print(h.hexdigest(), chunk.shape)\n",
    "    "
   ]
  },
  {
   "cell_type": "code",
   "execution_count": null,
   "id": "6d4992c2-084f-425b-941b-f00b68e17dae",
   "metadata": {},
   "outputs": [],
   "source": []
  }
 ],
 "metadata": {
  "kernelspec": {
   "display_name": "Python 3 (ipykernel)",
   "language": "python",
   "name": "python3"
  },
  "language_info": {
   "codemirror_mode": {
    "name": "ipython",
    "version": 3
   },
   "file_extension": ".py",
   "mimetype": "text/x-python",
   "name": "python",
   "nbconvert_exporter": "python",
   "pygments_lexer": "ipython3",
   "version": "3.12.7"
  }
 },
 "nbformat": 4,
 "nbformat_minor": 5
}
