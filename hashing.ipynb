{
 "cells": [
  {
   "cell_type": "code",
   "execution_count": 7,
   "id": "86eff6e3-fe4c-40c3-93c6-b26662670f61",
   "metadata": {},
   "outputs": [],
   "source": [
    "import numpy as np\n",
    "from versioned_hdf5.hashing import hash_slab_fast, hash_slab_slow\n",
    "\n",
    "n_chunks = 40_000\n",
    "chunk_size = (100, 100)\n",
    "\n",
    "slab = np.random.random((n_chunks * chunk_size[0], *chunk_size[1:]))\n",
    "digests_slow = np.zeros((n_chunks, 32), dtype=np.uint8)\n",
    "digests_fast = np.zeros((n_chunks, 32), dtype=np.uint8)\n",
    "hash_slab_slow(slab, digests_slow, chunk_size[0])\n",
    "hash_slab_fast(slab, digests_fast, chunk_size[0])\n",
    "np.testing.assert_array_equal(digests_fast, digests_slow, strict=True)"
   ]
  },
  {
   "cell_type": "code",
   "execution_count": 8,
   "id": "15c4c918-1102-4894-bde7-997949591f96",
   "metadata": {},
   "outputs": [
    {
     "name": "stdout",
     "output_type": "stream",
     "text": [
      "2.05 s ± 15.2 ms per loop (mean ± std. dev. of 7 runs, 1 loop each)\n",
      "1.54 s ± 6.29 ms per loop (mean ± std. dev. of 7 runs, 1 loop each)\n"
     ]
    }
   ],
   "source": [
    "%timeit hash_slab_slow(slab, digests_slow, chunk_size[0])\n",
    "%timeit hash_slab_fast(slab, digests_fast, chunk_size[0])"
   ]
  },
  {
   "cell_type": "code",
   "execution_count": null,
   "id": "0d34b157-9812-4379-8c73-ee7db07c5ef1",
   "metadata": {},
   "outputs": [],
   "source": []
  }
 ],
 "metadata": {
  "kernelspec": {
   "display_name": "Python 3 (ipykernel)",
   "language": "python",
   "name": "python3"
  },
  "language_info": {
   "codemirror_mode": {
    "name": "ipython",
    "version": 3
   },
   "file_extension": ".py",
   "mimetype": "text/x-python",
   "name": "python",
   "nbconvert_exporter": "python",
   "pygments_lexer": "ipython3",
   "version": "3.12.7"
  }
 },
 "nbformat": 4,
 "nbformat_minor": 5
}
